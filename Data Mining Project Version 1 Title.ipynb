{
 "cells": [
  {
   "cell_type": "code",
   "execution_count": 1,
   "metadata": {
    "scrolled": true
   },
   "outputs": [
    {
     "name": "stderr",
     "output_type": "stream",
     "text": [
      "[nltk_data] Downloading package stopwords to\n",
      "[nltk_data]     /Users/tristandealwis/nltk_data...\n",
      "[nltk_data]   Package stopwords is already up-to-date!\n",
      "[nltk_data] Downloading package punkt to\n",
      "[nltk_data]     /Users/tristandealwis/nltk_data...\n",
      "[nltk_data]   Package punkt is already up-to-date!\n"
     ]
    }
   ],
   "source": [
    "import pandas as pd\n",
    "import nltk; nltk.download('stopwords')\n",
    "nltk.download('punkt')\n",
    "\n",
    "from nltk.tokenize import word_tokenize \n",
    "\n",
    "# Regular Expressions\n",
    "import re\n",
    "import numpy as np\n",
    "import pandas as pd\n",
    "from pprint import pprint\n",
    "\n",
    "# Gensim\n",
    "import gensim\n",
    "import gensim.corpora as corpora\n",
    "from gensim.utils import simple_preprocess\n",
    "from gensim.models import CoherenceModel\n",
    "\n",
    "# spacy for lemmatization\n",
    "import spacy\n",
    "\n",
    "# Plotting tools\n",
    "import pyLDAvis\n",
    "import pyLDAvis.gensim  # don't skip this\n",
    "import matplotlib.pyplot as plt\n",
    "%matplotlib inline\n",
    "\n",
    "# Enable logging for gensim - optional\n",
    "# import logging\n",
    "# logging.basicConfig(format='%(asctime)s : %(levelname)s : %(message)s', level=logging.ERROR)\n",
    "\n",
    "# import warnings\n",
    "# warnings.filterwarnings(\"ignore\",category=DeprecationWarning)\n",
    "\n",
    "# from ngram import NGram"
   ]
  },
  {
   "cell_type": "code",
   "execution_count": 2,
   "metadata": {},
   "outputs": [],
   "source": [
    "listings = pd.read_csv(\"listings.csv\", usecols=['id', 'name', 'description', 'neighbourhood_cleansed', 'zipcode', 'property_type', 'room_type', \n",
    "                                            'price', 'availability_365'])\n",
    "listings = listings.rename(columns={'id': 'listing_id'})\n",
    "\n",
    "reviews = pd.read_csv(\"reviews.csv\", usecols=['listing_id', 'comments'])"
   ]
  },
  {
   "cell_type": "code",
   "execution_count": 3,
   "metadata": {},
   "outputs": [],
   "source": [
    "df = pd.merge(listings, reviews, on='listing_id')"
   ]
  },
  {
   "cell_type": "code",
   "execution_count": 4,
   "metadata": {},
   "outputs": [],
   "source": [
    "df.describe();"
   ]
  },
  {
   "cell_type": "code",
   "execution_count": 5,
   "metadata": {},
   "outputs": [],
   "source": [
    "df.head();"
   ]
  },
  {
   "cell_type": "code",
   "execution_count": 6,
   "metadata": {},
   "outputs": [],
   "source": [
    "from nltk.corpus import stopwords\n",
    "stop_words = stopwords.words('english')\n",
    "stop_words.extend(['from', 'subject', 're', 'edu', 'use'])"
   ]
  },
  {
   "cell_type": "code",
   "execution_count": 7,
   "metadata": {},
   "outputs": [],
   "source": [
    "def sent_to_words(sentences):\n",
    "    for sentence in sentences:\n",
    "        yield(gensim.utils.simple_preprocess(str(sentence), deacc=True))  # deacc=True removes punctuations\n",
    "\n",
    "data_words = list(sent_to_words(df['name'][1:10000]))"
   ]
  },
  {
   "cell_type": "code",
   "execution_count": 8,
   "metadata": {},
   "outputs": [
    {
     "name": "stdout",
     "output_type": "stream",
     "text": [
      "['cozy', 'entire', 'floor', 'of', 'brownstone']\n"
     ]
    }
   ],
   "source": [
    "# Build the bigram and trigram models\n",
    "bigram = gensim.models.Phrases(data_words, min_count=5, threshold=100) # higher threshold fewer phrases.\n",
    "trigram = gensim.models.Phrases(bigram[data_words], threshold=100)  \n",
    "\n",
    "# Faster way to get a sentence clubbed as a trigram/bigram\n",
    "bigram_mod = gensim.models.phrases.Phraser(bigram)\n",
    "trigram_mod = gensim.models.phrases.Phraser(trigram)\n",
    "\n",
    "# See trigram example\n",
    "print(trigram_mod[bigram_mod[data_words[0]]])"
   ]
  },
  {
   "cell_type": "code",
   "execution_count": 9,
   "metadata": {},
   "outputs": [],
   "source": [
    "# Define functions for stopwords, bigrams, trigrams and lemmatization\n",
    "def remove_stopwords(texts):\n",
    "    return [[word for word in simple_preprocess(str(doc)) if word not in stop_words] for doc in texts]\n",
    "\n",
    "def make_bigrams(texts):\n",
    "    return [bigram_mod[doc] for doc in texts]\n",
    "\n",
    "def make_trigrams(texts):\n",
    "    return [trigram_mod[bigram_mod[doc]] for doc in texts]\n",
    "\n",
    "def lemmatization(texts, allowed_postags=['NOUN', 'ADJ', 'VERB', 'ADV']):\n",
    "    \"\"\"https://spacy.io/api/annotation\"\"\"\n",
    "    texts_out = []\n",
    "    for sent in texts:\n",
    "        doc = nlp(\" \".join(sent)) \n",
    "        texts_out.append([token.lemma_ for token in doc if token.pos_ in allowed_postags])\n",
    "    return texts_out"
   ]
  },
  {
   "cell_type": "code",
   "execution_count": 10,
   "metadata": {},
   "outputs": [
    {
     "name": "stdout",
     "output_type": "stream",
     "text": [
      "[['cozy', 'entire', 'floor', 'brownstone']]\n"
     ]
    }
   ],
   "source": [
    "# Remove Stop Words\n",
    "data_words_nostops = remove_stopwords(data_words)\n",
    "# print('type(data_words_nostops): ', type(data_words_nostops))\n",
    "\n",
    "# Form Bigrams\n",
    "data_words_bigrams = make_bigrams(data_words_nostops)\n",
    "# print('type(data_words_bigrams): ', type(data_words_bigrams))\n",
    "# print(data_words_bigrams)\n",
    "\n",
    "# Form Trigrams\n",
    "data_words_trigrams = make_trigrams(data_words_nostops)\n",
    "\n",
    "# Initialize spacy 'en' model, keeping only tagger component (for efficiency)\n",
    "# ! python3 -m spacy download en\n",
    "\n",
    "nlp = spacy.load('en_core_web_sm', disable=['parser', 'ner'])\n",
    "\n",
    "# Do lemmatization keeping only noun, adj, vb, adv\n",
    "data_lemmatized = lemmatization(data_words_trigrams, allowed_postags=['NOUN', 'ADJ', 'VERB', 'ADV'])\n",
    "\n",
    "print(data_lemmatized[:1])"
   ]
  },
  {
   "cell_type": "code",
   "execution_count": 11,
   "metadata": {},
   "outputs": [
    {
     "name": "stdout",
     "output_type": "stream",
     "text": [
      "[[(0, 1), (1, 1), (2, 1), (3, 1)]]\n"
     ]
    }
   ],
   "source": [
    "# Create Dictionary\n",
    "id2word = corpora.Dictionary(data_lemmatized)\n",
    "\n",
    "# Create Corpus\n",
    "texts = data_lemmatized\n",
    "\n",
    "# Term Document Frequency\n",
    "corpus = [id2word.doc2bow(text) for text in texts]\n",
    "\n",
    "# View\n",
    "print(corpus[:1])"
   ]
  },
  {
   "cell_type": "code",
   "execution_count": 16,
   "metadata": {},
   "outputs": [
    {
     "name": "stderr",
     "output_type": "stream",
     "text": [
      "/Users/tristandealwis/opt/anaconda3/lib/python3.7/site-packages/gensim/models/ldamodel.py:821: RuntimeWarning: divide by zero encountered in double_scalars\n",
      "  perwordbound = self.bound(chunk, subsample_ratio=subsample_ratio) / (subsample_ratio * corpus_words)\n"
     ]
    }
   ],
   "source": [
    "# Build LDA model\n",
    "lda_model = gensim.models.ldamodel.LdaModel(corpus=corpus,\n",
    "                                           id2word=id2word,\n",
    "                                           num_topics=3, \n",
    "                                           random_state=100,\n",
    "                                           update_every=1,\n",
    "                                           chunksize=100,\n",
    "                                           passes=10,\n",
    "                                           alpha=2,\n",
    "                                           per_word_topics=True)"
   ]
  },
  {
   "cell_type": "code",
   "execution_count": 17,
   "metadata": {
    "scrolled": true
   },
   "outputs": [
    {
     "name": "stdout",
     "output_type": "stream",
     "text": [
      "[(0,\n",
      "  '0.182*\"room\" + 0.103*\"entire\" + 0.096*\"height\" + 0.078*\"monthly\" + '\n",
      "  '0.055*\"floor\" + 0.053*\"quiet\" + 0.053*\"doogler\" + 0.034*\"brick\" + '\n",
      "  '0.034*\"window\" + 0.024*\"district\"'),\n",
      " (1,\n",
      "  '0.132*\"light\" + 0.131*\"fill\" + 0.131*\"park\" + 0.118*\"classic\" + '\n",
      "  '0.077*\"large\" + 0.059*\"height\" + 0.044*\"bright\" + 0.038*\"enormous\" + '\n",
      "  '0.025*\"family\" + 0.021*\"east\"'),\n",
      " (2,\n",
      "  '0.189*\"apartment\" + 0.155*\"sunny\" + 0.112*\"spacious\" + 0.102*\"bedroom\" + '\n",
      "  '0.100*\"artist\" + 0.100*\"home\" + 0.038*\"beautiful\" + 0.030*\"height\" + '\n",
      "  '0.022*\"meatpacke\" + 0.022*\"district\"')]\n"
     ]
    }
   ],
   "source": [
    "# Print the Keyword in the 3 topics\n",
    "pprint(lda_model.print_topics())\n",
    "doc_lda = lda_model[corpus]"
   ]
  },
  {
   "cell_type": "code",
   "execution_count": 18,
   "metadata": {},
   "outputs": [
    {
     "name": "stdout",
     "output_type": "stream",
     "text": [
      "\n",
      "Perplexity:  -5.786969806724018\n",
      "\n",
      "Coherence Score:  0.6755936831158958\n"
     ]
    }
   ],
   "source": [
    "# Compute Perplexity\n",
    "print('\\nPerplexity: ', lda_model.log_perplexity(corpus))  # a measure of how good the model is. lower the better.\n",
    "\n",
    "# Compute Coherence Score\n",
    "coherence_model_lda = CoherenceModel(model=lda_model, texts=data_lemmatized, dictionary=id2word, coherence='c_v')\n",
    "coherence_lda = coherence_model_lda.get_coherence()\n",
    "print('\\nCoherence Score: ', coherence_lda)"
   ]
  },
  {
   "cell_type": "code",
   "execution_count": 19,
   "metadata": {
    "scrolled": false
   },
   "outputs": [
    {
     "name": "stderr",
     "output_type": "stream",
     "text": [
      "/Users/tristandealwis/opt/anaconda3/lib/python3.7/site-packages/pyLDAvis/_prepare.py:257: FutureWarning: Sorting because non-concatenation axis is not aligned. A future version\n",
      "of pandas will change to not sort by default.\n",
      "\n",
      "To accept the future behavior, pass 'sort=False'.\n",
      "\n",
      "To retain the current behavior and silence the warning, pass 'sort=True'.\n",
      "\n",
      "  return pd.concat([default_term_info] + list(topic_dfs))\n"
     ]
    },
    {
     "data": {
      "text/html": [
       "\n",
       "<link rel=\"stylesheet\" type=\"text/css\" href=\"https://cdn.rawgit.com/bmabey/pyLDAvis/files/ldavis.v1.0.0.css\">\n",
       "\n",
       "\n",
       "<div id=\"ldavis_el124211125104702246210404702\"></div>\n",
       "<script type=\"text/javascript\">\n",
       "\n",
       "var ldavis_el124211125104702246210404702_data = {\"mdsDat\": {\"x\": [-0.13285964288836757, -0.20473587215354958, 0.33759551504191715], \"y\": [0.2177246350416534, -0.1888691674172218, -0.028855467624431815], \"topics\": [1, 2, 3], \"cluster\": [1, 1, 1], \"Freq\": [38.46974563598633, 31.310192108154297, 30.220064163208008]}, \"tinfo\": {\"Category\": [\"Default\", \"Default\", \"Default\", \"Default\", \"Default\", \"Default\", \"Default\", \"Default\", \"Default\", \"Default\", \"Default\", \"Default\", \"Default\", \"Default\", \"Default\", \"Default\", \"Default\", \"Default\", \"Default\", \"Default\", \"Default\", \"Default\", \"Default\", \"Default\", \"Default\", \"Default\", \"Default\", \"Default\", \"Default\", \"Default\", \"Topic1\", \"Topic1\", \"Topic1\", \"Topic1\", \"Topic1\", \"Topic1\", \"Topic1\", \"Topic1\", \"Topic1\", \"Topic1\", \"Topic1\", \"Topic1\", \"Topic1\", \"Topic1\", \"Topic1\", \"Topic1\", \"Topic1\", \"Topic1\", \"Topic1\", \"Topic1\", \"Topic1\", \"Topic1\", \"Topic1\", \"Topic1\", \"Topic1\", \"Topic1\", \"Topic1\", \"Topic1\", \"Topic1\", \"Topic1\", \"Topic1\", \"Topic1\", \"Topic1\", \"Topic1\", \"Topic1\", \"Topic1\", \"Topic1\", \"Topic1\", \"Topic1\", \"Topic1\", \"Topic1\", \"Topic1\", \"Topic1\", \"Topic2\", \"Topic2\", \"Topic2\", \"Topic2\", \"Topic2\", \"Topic2\", \"Topic2\", \"Topic2\", \"Topic2\", \"Topic2\", \"Topic2\", \"Topic2\", \"Topic2\", \"Topic2\", \"Topic2\", \"Topic2\", \"Topic2\", \"Topic2\", \"Topic2\", \"Topic2\", \"Topic2\", \"Topic2\", \"Topic2\", \"Topic2\", \"Topic2\", \"Topic2\", \"Topic2\", \"Topic2\", \"Topic2\", \"Topic2\", \"Topic2\", \"Topic2\", \"Topic2\", \"Topic2\", \"Topic2\", \"Topic2\", \"Topic2\", \"Topic2\", \"Topic2\", \"Topic2\", \"Topic2\", \"Topic2\", \"Topic2\", \"Topic2\", \"Topic2\", \"Topic3\", \"Topic3\", \"Topic3\", \"Topic3\", \"Topic3\", \"Topic3\", \"Topic3\", \"Topic3\", \"Topic3\", \"Topic3\", \"Topic3\", \"Topic3\", \"Topic3\", \"Topic3\", \"Topic3\", \"Topic3\", \"Topic3\", \"Topic3\", \"Topic3\", \"Topic3\", \"Topic3\", \"Topic3\", \"Topic3\", \"Topic3\", \"Topic3\", \"Topic3\", \"Topic3\", \"Topic3\", \"Topic3\", \"Topic3\", \"Topic3\", \"Topic3\", \"Topic3\", \"Topic3\", \"Topic3\", \"Topic3\", \"Topic3\", \"Topic3\", \"Topic3\", \"Topic3\", \"Topic3\"], \"Freq\": [1282.0, 1571.0, 1050.0, 934.0, 939.0, 939.0, 886.0, 775.0, 679.0, 679.0, 696.0, 1003.0, 674.0, 568.0, 475.0, 310.0, 263.0, 540.0, 540.0, 309.0, 320.0, 320.0, 183.0, 178.0, 144.0, 149.0, 104.0, 204.0, 103.0, 1439.0, 1570.7330322265625, 885.7609252929688, 672.7584228515625, 177.40939331054688, 473.1662292480469, 45.399436950683594, 42.82920837402344, 38.36930847167969, 10.414837837219238, 10.414837837219238, 10.414837837219238, 15.783411026000977, 293.9485778808594, 293.9485778808594, 26.715635299682617, 5.6246337890625, 453.1561279296875, 453.1561279296875, 20.34490394592285, 145.68942260742188, 145.68942260742188, 7.482728481292725, 51.972015380859375, 1.1776609420776367, 115.4366683959961, 1.2656259536743164, 1.2062411308288574, 1.3137485980987549, 37.62556838989258, 37.62556838989258, 823.5368041992188, 121.6702651977539, 150.9858856201172, 96.87338256835938, 61.5543212890625, 57.910614013671875, 52.47711181640625, 207.62840270996094, 207.62840270996094, 90.08158111572266, 90.08158111572266, 169.41400146484375, 44.76747131347656, 927.3225708007812, 308.0336608886719, 103.04109191894531, 921.63671875, 921.63671875, 146.13552856445312, 177.97314453125, 542.3297729492188, 93.94911193847656, 10.026138305664062, 9.603745460510254, 28.669767379760742, 268.24371337890625, 828.3160400390625, 5.2019124031066895, 5.2019124031066895, 10.791251182556152, 75.87325286865234, 75.87325286865234, 1.0123971700668335, 0.8273579478263855, 0.8273579478263855, 4.6396565437316895, 79.38931274414062, 112.21823120117188, 2.872668981552124, 2.872668981552124, 1.1378772258758545, 1.5385643243789673, 1.5385643243789673, 56.657936096191406, 414.1295166015625, 28.96175193786621, 60.492469787597656, 99.95016479492188, 99.95016479492188, 29.42658042907715, 26.97760009765625, 17.91590690612793, 78.279052734375, 78.279052734375, 37.95478057861328, 37.95478057861328, 38.05573272705078, 38.05573272705078, 1048.327880859375, 676.872802734375, 676.872802734375, 1277.4954833984375, 688.4727172851562, 142.46336364746094, 260.3397521972656, 755.9055786132812, 77.7595443725586, 41.79100799560547, 147.42726135253906, 9.736438751220703, 5.702821254730225, 5.702821254730225, 1.054923176765442, 1.054923176765442, 0.846639096736908, 0.846639096736908, 0.846639096736908, 71.40196228027344, 71.40196228027344, 150.96853637695312, 150.96853637695312, 13.837812423706055, 10.799664497375488, 0.35610079765319824, 0.3132060468196869, 0.3132060468196869, 20.279863357543945, 9.740228652954102, 20.913536071777344, 6.813702583312988, 201.90823364257812, 31.780986785888672, 10.163954734802246, 10.163954734802246, 12.970230102539062, 11.046055793762207, 21.11195182800293, 21.11195182800293, 12.6542329788208], \"Term\": [\"apartment\", \"room\", \"sunny\", \"light\", \"fill\", \"park\", \"entire\", \"spacious\", \"artist\", \"home\", \"bedroom\", \"classic\", \"monthly\", \"large\", \"floor\", \"bright\", \"beautiful\", \"doogler\", \"quiet\", \"enormous\", \"brick\", \"window\", \"family\", \"lovely\", \"stop\", \"east\", \"perfect\", \"modern\", \"location\", \"height\", \"room\", \"entire\", \"monthly\", \"lovely\", \"floor\", \"brownstone\", \"area\", \"double\", \"garden\", \"legal\", \"rental\", \"bed\", \"window\", \"brick\", \"blue\", \"front\", \"doogler\", \"quiet\", \"deck\", \"loft\", \"office\", \"charm\", \"top\", \"cozy\", \"parlor\", \"help\", \"pied\", \"bohemian\", \"king\", \"little\", \"height\", \"luminous\", \"village\", \"good\", \"queen\", \"welcome\", \"comfortable\", \"district\", \"meatpacke\", \"guest\", \"house\", \"classic\", \"modern\", \"light\", \"bright\", \"perfect\", \"fill\", \"park\", \"east\", \"family\", \"large\", \"location\", \"apt\", \"share\", \"side\", \"enormous\", \"classic\", \"back\", \"bunk\", \"original\", \"small\", \"group\", \"parent\", \"furnished\", \"way\", \"bet\", \"good\", \"village\", \"retreat\", \"west\", \"style\", \"slope\", \"heart\", \"parlor\", \"height\", \"comfortable\", \"luminous\", \"district\", \"meatpacke\", \"queen\", \"welcome\", \"king\", \"doogler\", \"quiet\", \"guest\", \"house\", \"office\", \"loft\", \"sunny\", \"artist\", \"home\", \"apartment\", \"bedroom\", \"stop\", \"beautiful\", \"spacious\", \"huge\", \"private\", \"modern\", \"block\", \"enjoy\", \"downtown\", \"comfy\", \"plant\", \"super\", \"doti\", \"host\", \"house\", \"guest\", \"district\", \"meatpacke\", \"flat\", \"bathroom\", \"wonderful\", \"low\", \"bdrm\", \"welcome\", \"cool\", \"queen\", \"kid\", \"height\", \"luminous\", \"king\", \"little\", \"comfortable\", \"top\", \"loft\", \"office\", \"enormous\"], \"Total\": [1282.0, 1571.0, 1050.0, 934.0, 939.0, 939.0, 886.0, 775.0, 679.0, 679.0, 696.0, 1003.0, 674.0, 568.0, 475.0, 310.0, 263.0, 540.0, 540.0, 309.0, 320.0, 320.0, 183.0, 178.0, 144.0, 149.0, 104.0, 204.0, 103.0, 1439.0, 1571.66845703125, 886.900390625, 674.5673828125, 178.21075439453125, 475.4940185546875, 46.02450180053711, 43.43683624267578, 39.04362869262695, 11.024151802062988, 11.024151802062988, 11.024151802062988, 16.869543075561523, 320.40203857421875, 320.40203857421875, 29.884912490844727, 6.4407501220703125, 540.6286010742188, 540.6286010742188, 25.19343376159668, 204.8571014404297, 204.8571014404297, 10.716520309448242, 78.72511291503906, 1.791388988494873, 178.52117919921875, 2.10134220123291, 2.0429251194000244, 2.273552656173706, 65.70542907714844, 65.70542907714844, 1439.574462890625, 213.9437255859375, 272.294189453125, 176.5010528564453, 111.89443969726562, 105.16807556152344, 94.40909576416016, 458.5470886230469, 458.5470886230469, 199.43832397460938, 199.43832397460938, 1003.8624267578125, 204.26382446289062, 934.0087280273438, 310.44488525390625, 104.39956665039062, 939.5151977539062, 939.5151977539062, 149.1350860595703, 183.66563415527344, 568.6211547851562, 103.20079040527344, 11.015438079833984, 10.899881362915039, 32.75514221191406, 309.98944091796875, 1003.8624267578125, 7.261815071105957, 7.261815071105957, 15.542677879333496, 113.68517303466797, 113.68517303466797, 2.164734363555908, 1.8232851028442383, 1.8232851028442383, 10.252571105957031, 176.5010528564453, 272.294189453125, 7.572899341583252, 7.572899341583252, 3.1185550689697266, 4.5982184410095215, 4.5982184410095215, 178.52117919921875, 1439.574462890625, 94.40909576416016, 213.9437255859375, 458.5470886230469, 458.5470886230469, 111.89443969726562, 105.16807556152344, 65.70542907714844, 540.6286010742188, 540.6286010742188, 199.43832397460938, 199.43832397460938, 204.8571014404297, 204.8571014404297, 1050.381591796875, 679.2217407226562, 679.2217407226562, 1282.582763671875, 696.0525512695312, 144.22503662109375, 263.8046875, 775.1286010742188, 88.31043243408203, 50.33014678955078, 204.26382446289062, 17.572608947753906, 11.069997787475586, 11.069997787475586, 2.6111412048339844, 2.6111412048339844, 2.263688564300537, 2.263688564300537, 2.263688564300537, 199.43832397460938, 199.43832397460938, 458.5470886230469, 458.5470886230469, 45.5213623046875, 47.767337799072266, 1.5762572288513184, 1.5441068410873413, 1.5441068410873413, 105.16807556152344, 51.44292449951172, 111.89443969726562, 37.75495910644531, 1439.574462890625, 213.9437255859375, 65.70542907714844, 65.70542907714844, 94.40909576416016, 78.72511291503906, 204.8571014404297, 204.8571014404297, 309.98944091796875], \"loglift\": [30.0, 29.0, 28.0, 27.0, 26.0, 25.0, 24.0, 23.0, 22.0, 21.0, 20.0, 19.0, 18.0, 17.0, 16.0, 15.0, 14.0, 13.0, 12.0, 11.0, 10.0, 9.0, 8.0, 7.0, 6.0, 5.0, 4.0, 3.0, 2.0, 1.0, 0.9546999931335449, 0.9539999961853027, 0.9526000022888184, 0.9508000016212463, 0.9503999948501587, 0.9416000247001648, 0.9412000179290771, 0.9379000067710876, 0.8984000086784363, 0.8984000086784363, 0.8984000086784363, 0.888700008392334, 0.8690999746322632, 0.8690999746322632, 0.8432000279426575, 0.8198000192642212, 0.7788000106811523, 0.7788000106811523, 0.7415000200271606, 0.6144999861717224, 0.6144999861717224, 0.5960999727249146, 0.5400000214576721, 0.5357999801635742, 0.5192999839782715, 0.44830000400543213, 0.4284000098705292, 0.4068000018596649, 0.3977999985218048, 0.3977999985218048, 0.3968000113964081, 0.39089998602867126, 0.36559998989105225, 0.3553999960422516, 0.357699990272522, 0.358599990606308, 0.36800000071525574, 0.16300000250339508, 0.16300000250339508, 0.16050000488758087, 0.16050000488758087, -0.8240000009536743, -0.5626000165939331, 1.1540000438690186, 1.15339994430542, 1.1481000185012817, 1.1419999599456787, 1.1419999599456787, 1.1409000158309937, 1.129699945449829, 1.1138999462127686, 1.0672999620437622, 1.0671000480651855, 1.034600019454956, 1.027999997138977, 1.0166000127792358, 0.968999981880188, 0.8276000022888184, 0.8276000022888184, 0.7964000105857849, 0.7569000124931335, 0.7569000124931335, 0.40119999647140503, 0.3711000084877014, 0.3711000084877014, 0.3682999908924103, 0.36230000853538513, 0.27480000257492065, 0.19189999997615814, 0.19189999997615814, 0.15299999713897705, 0.06639999896287918, 0.06639999896287918, 0.01360000018030405, -0.08470000326633453, -0.020400000736117363, -0.10199999809265137, -0.362199991941452, -0.362199991941452, -0.17440000176429749, -0.19930000603199005, -0.13830000162124634, -0.7712000012397766, -0.7712000012397766, -0.49790000915527344, -0.49790000915527344, -0.5220000147819519, -0.5220000147819519, 1.194700002670288, 1.1931999921798706, 1.1931999921798706, 1.1927000284194946, 1.1857000589370728, 1.184399962425232, 1.18340003490448, 1.1715999841690063, 1.0693999528884888, 1.010699987411499, 0.8705999851226807, 0.6061999797821045, 0.5333999991416931, 0.5333999991416931, 0.29030001163482666, 0.29030001163482666, 0.21320000290870667, 0.21320000290870667, 0.21320000290870667, 0.16949999332427979, 0.16949999332427979, 0.08569999784231186, 0.08569999784231186, 0.005900000222027302, -0.29019999504089355, -0.29089999198913574, -0.3986999988555908, -0.3986999988555908, -0.44929999113082886, -0.4675000011920929, -0.4805000126361847, -0.515500009059906, -0.7675999999046326, -0.7102000117301941, -0.669700026512146, -0.669700026512146, -0.7882999777793884, -0.7671999931335449, -1.0757999420166016, -1.0757999420166016, -2.0018999576568604], \"logprob\": [30.0, 29.0, 28.0, 27.0, 26.0, 25.0, 24.0, 23.0, 22.0, 21.0, 20.0, 19.0, 18.0, 17.0, 16.0, 15.0, 14.0, 13.0, 12.0, 11.0, 10.0, 9.0, 8.0, 7.0, 6.0, 5.0, 4.0, 3.0, 2.0, 1.0, -1.7027000188827515, -2.2755000591278076, -2.550600051879883, -3.883500099182129, -2.9024999141693115, -5.246500015258789, -5.304699897766113, -5.414700031280518, -6.718699932098389, -6.718699932098389, -6.718699932098389, -6.302999973297119, -3.3785998821258545, -3.3785998821258545, -5.776700019836426, -7.334799766540527, -2.94569993019104, -2.94569993019104, -6.049099922180176, -4.08050012588501, -4.08050012588501, -7.0493998527526855, -5.111299991607666, -8.89840030670166, -4.313199996948242, -8.826399803161621, -8.874500274658203, -8.78909969329834, -5.434299945831299, -5.434299945831299, -2.348400115966797, -4.2606000900268555, -4.0447998046875, -4.48859977722168, -4.941999912261963, -5.0030999183654785, -5.101600170135498, -3.7262001037597656, -3.7262001037597656, -4.561200141906738, -4.561200141906738, -3.9296000003814697, -5.260499954223633, -2.023699998855591, -3.1257998943328857, -4.220900058746338, -2.029900074005127, -2.029900074005127, -3.871500015258789, -3.6744000911712646, -2.5601999759674072, -4.313300132751465, -6.55079984664917, -6.593900203704834, -5.500199794769287, -3.2641000747680664, -2.1366000175476074, -7.206999778747559, -7.206999778747559, -6.47730016708374, -4.5269999504089355, -4.5269999504089355, -8.843700408935547, -9.045599937438965, -9.045599937438965, -7.321400165557861, -4.4816999435424805, -4.1356000900268555, -7.80079984664917, -7.80079984664917, -8.726900100708008, -8.425200462341309, -8.425200462341309, -4.818999767303467, -2.829900026321411, -5.490099906921387, -4.753499984741211, -4.251399993896484, -4.251399993896484, -5.474100112915039, -5.560999870300293, -5.970300197601318, -4.495800018310547, -4.495800018310547, -5.219600200653076, -5.219600200653076, -5.2170000076293945, -5.2170000076293945, -1.8655999898910522, -2.303100109100342, -2.303100109100342, -1.6678999662399292, -2.286099910736084, -3.8615000247955322, -3.2585999965667725, -2.192699909210205, -4.4670000076293945, -5.087900161743164, -3.8273000717163086, -6.5447001457214355, -7.079599857330322, -7.079599857330322, -8.76710033416748, -8.76710033416748, -8.987099647521973, -8.987099647521973, -8.987099647521973, -4.552299976348877, -4.552299976348877, -3.803499937057495, -3.803499937057495, -6.19320011138916, -6.441100120544434, -9.853099822998047, -9.981499671936035, -9.981499671936035, -5.810999870300293, -6.544300079345703, -5.780200004577637, -6.901700019836426, -3.5127999782562256, -5.361700057983398, -6.501800060272217, -6.501800060272217, -6.257900238037109, -6.418499946594238, -5.7708001136779785, -5.7708001136779785, -6.282599925994873]}, \"token.table\": {\"Topic\": [1, 2, 3, 1, 2, 1, 1, 2, 3, 1, 2, 1, 2, 3, 1, 1, 2, 3, 1, 2, 1, 2, 3, 1, 2, 3, 1, 2, 3, 1, 2, 3, 1, 2, 1, 2, 3, 1, 2, 3, 1, 1, 2, 1, 2, 3, 1, 2, 3, 1, 2, 3, 1, 2, 3, 1, 2, 3, 1, 1, 2, 3, 1, 2, 3, 1, 2, 3, 1, 2, 3, 1, 1, 2, 3, 1, 2, 1, 2, 3, 1, 2, 3, 1, 2, 1, 2, 3, 1, 2, 3, 1, 2, 3, 1, 2, 1, 2, 1, 2, 1, 1, 2, 1, 2, 3, 1, 2, 3, 1, 2, 3, 1, 2, 3, 1, 2, 1, 2, 3, 1, 2, 3, 1, 2, 3, 1, 2, 3, 1, 2, 3, 1, 2, 3, 1, 2, 1, 1, 2, 1, 2, 3, 1, 2, 3, 1, 2, 3, 1, 1, 1, 2, 3, 1, 2, 3, 1, 2, 3, 1, 2, 1, 2, 3, 1, 2, 3, 1, 2, 1, 2, 3, 1, 2, 3, 1, 2, 1, 2, 1, 2, 3, 1, 2, 3, 1, 2, 3, 1, 2, 3, 1, 1, 2, 3, 1, 2, 1, 2, 1, 2, 3, 1, 2, 3, 1, 2, 3, 1, 2, 3, 1, 2, 3, 1, 2, 3, 1, 2, 3, 1, 2, 3, 1, 2, 3, 1, 2, 3, 1, 2, 1, 2, 3, 1, 2, 3, 1, 2, 3, 1], \"Freq\": [0.00233903038315475, 0.001559353549964726, 0.9956472516059875, 0.09078168123960495, 0.9078168272972107, 0.9899432063102722, 0.0029445465188473463, 0.0014722732594236732, 0.9967290163040161, 0.27541324496269226, 0.6885330677032471, 0.5233701467514038, 0.25121769309043884, 0.23028287291526794, 0.647623598575592, 0.00758136622607708, 0.00379068311303854, 0.9855776429176331, 0.9484548568725586, 0.05927842855453491, 0.007183365523815155, 0.002873346209526062, 0.9884310960769653, 0.4876825511455536, 0.4876825511455536, 0.09753651171922684, 0.2276269793510437, 0.17072023451328278, 0.5690674781799316, 0.9034659266471863, 0.10038509964942932, 0.03346170112490654, 0.43984025716781616, 0.43984025716781616, 0.9175971746444702, 0.06866373121738434, 0.012484314851462841, 0.006442367564886808, 0.9921245574951172, 0.003221183782443404, 0.9777400493621826, 0.27541324496269226, 0.6885330677032471, 0.6531971096992493, 0.2799416184425354, 0.09331387281417847, 0.1683497577905655, 0.8248142004013062, 0.005976914428174496, 0.5507943630218506, 0.30717378854751587, 0.13769859075546265, 0.3829742968082428, 0.3829742968082428, 0.3829742968082428, 0.5442925095558167, 0.25270724296569824, 0.1943901926279068, 0.5582260489463806, 0.7938576340675354, 0.07938576489686966, 0.11907864362001419, 0.45360663533210754, 0.21808011829853058, 0.32930096983909607, 0.8379135131835938, 0.14427649974822998, 0.01664728857576847, 0.44175687432289124, 0.44175687432289124, 0.44175687432289124, 0.9732701778411865, 0.27100276947021484, 0.27100276947021484, 0.5420055389404297, 0.020115990191698074, 0.9789782166481018, 0.27100276947021484, 0.27100276947021484, 0.5420055389404297, 0.09355157613754272, 0.8645455837249756, 0.04193691164255142, 0.9989848136901855, 0.0011275223223492503, 0.027223384007811546, 0.9691524505615234, 0.005444676615297794, 0.018094439059495926, 0.981357216835022, 0.0010643787682056427, 0.4613218605518341, 0.24164478480815887, 0.307547926902771, 0.9947549104690552, 0.0042061517015099525, 0.9315685033798218, 0.15526141226291656, 0.5484606027603149, 0.5484606027603149, 0.9070992469787598, 0.5495718121528625, 0.4475893974304199, 0.2990715503692627, 0.6685128808021545, 0.03518488630652428, 0.4512673318386078, 0.19053509831428528, 0.35599979758262634, 0.4349510669708252, 0.4349510669708252, 0.2174755334854126, 0.5723913908004761, 0.28758499026298523, 0.14031924307346344, 0.4758863151073456, 0.4758863151073456, 0.0029445465188473463, 0.0014722732594236732, 0.9967290163040161, 0.44175687432289124, 0.44175687432289124, 0.44175687432289124, 0.4512673318386078, 0.19053509831428528, 0.35599979758262634, 0.09058952331542969, 0.03397107124328613, 0.8832478523254395, 0.5297317504882812, 0.29135245084762573, 0.18540610373020172, 0.5783388018608093, 0.2739499509334564, 0.15219442546367645, 0.045724645256996155, 0.9531829953193665, 0.9070992469787598, 0.006423922721296549, 0.9924960732460022, 0.5783388018608093, 0.2739499509334564, 0.15219442546367645, 0.07751878350973129, 0.9108457565307617, 0.009689847938716412, 0.7126919031143188, 0.18549515306949615, 0.1025104820728302, 0.9932060241699219, 0.647623598575592, 0.5702434182167053, 0.2804475724697113, 0.14957204461097717, 0.45360663533210754, 0.21808011829853058, 0.32930096983909607, 0.22030332684516907, 0.0587475523352623, 0.7196575403213501, 0.9976764917373657, 0.0029648630879819393, 0.7126919031143188, 0.18549515306949615, 0.1025104820728302, 0.2573558986186981, 0.7077287435531616, 0.06433897465467453, 0.4619504511356354, 0.4619504511356354, 0.018094439059495926, 0.981357216835022, 0.0010643787682056427, 0.6441812515258789, 0.31928983330726624, 0.033609457314014435, 0.009578583762049675, 0.9865941405296326, 0.4894942045211792, 0.4894942045211792, 0.3829742968082428, 0.3829742968082428, 0.3829742968082428, 0.11921284347772598, 0.03973761573433876, 0.8344899415969849, 0.5540936589241028, 0.25917285680770874, 0.18767689168453217, 0.8379135131835938, 0.14427649974822998, 0.01664728857576847, 0.9070992469787598, 0.5281992554664612, 0.3961494565010071, 0.1320498138666153, 0.9995746612548828, 0.0006362664862535894, 0.09174411743879318, 0.917441189289093, 0.030529556795954704, 0.885357141494751, 0.09158867597579956, 0.4349510669708252, 0.4349510669708252, 0.2174755334854126, 0.2990715503692627, 0.6685128808021545, 0.03518488630652428, 0.016771409660577774, 0.007740650791674852, 0.9753220081329346, 0.006933609023690224, 0.006933609023690224, 0.9845724701881409, 0.320661336183548, 0.320661336183548, 0.320661336183548, 0.0009520349558442831, 0.0009520349558442831, 0.9977326393127441, 0.44175687432289124, 0.44175687432289124, 0.44175687432289124, 0.6605262160301208, 0.2032388299703598, 0.1397266983985901, 0.5545472502708435, 0.4113198220729828, 0.033052485436201096, 0.5484606027603149, 0.5484606027603149, 0.5514981746673584, 0.25673189759254456, 0.19017177820205688, 0.5281992554664612, 0.3961494565010071, 0.1320498138666153, 0.9175971746444702, 0.06866373121738434, 0.012484314851462841, 0.6344141960144043], \"Term\": [\"apartment\", \"apartment\", \"apartment\", \"apt\", \"apt\", \"area\", \"artist\", \"artist\", \"artist\", \"back\", \"back\", \"bathroom\", \"bathroom\", \"bathroom\", \"bdrm\", \"beautiful\", \"beautiful\", \"beautiful\", \"bed\", \"bed\", \"bedroom\", \"bedroom\", \"bedroom\", \"bet\", \"bet\", \"bet\", \"block\", \"block\", \"block\", \"blue\", \"blue\", \"blue\", \"bohemian\", \"bohemian\", \"brick\", \"brick\", \"brick\", \"bright\", \"bright\", \"bright\", \"brownstone\", \"bunk\", \"bunk\", \"charm\", \"charm\", \"charm\", \"classic\", \"classic\", \"classic\", \"comfortable\", \"comfortable\", \"comfortable\", \"comfy\", \"comfy\", \"comfy\", \"cool\", \"cool\", \"cool\", \"cozy\", \"deck\", \"deck\", \"deck\", \"district\", \"district\", \"district\", \"doogler\", \"doogler\", \"doogler\", \"doti\", \"doti\", \"doti\", \"double\", \"downtown\", \"downtown\", \"downtown\", \"east\", \"east\", \"enjoy\", \"enjoy\", \"enjoy\", \"enormous\", \"enormous\", \"enormous\", \"entire\", \"entire\", \"family\", \"family\", \"family\", \"fill\", \"fill\", \"fill\", \"flat\", \"flat\", \"flat\", \"floor\", \"floor\", \"front\", \"front\", \"furnished\", \"furnished\", \"garden\", \"good\", \"good\", \"group\", \"group\", \"group\", \"guest\", \"guest\", \"guest\", \"heart\", \"heart\", \"heart\", \"height\", \"height\", \"height\", \"help\", \"help\", \"home\", \"home\", \"home\", \"host\", \"host\", \"host\", \"house\", \"house\", \"house\", \"huge\", \"huge\", \"huge\", \"kid\", \"kid\", \"kid\", \"king\", \"king\", \"king\", \"large\", \"large\", \"legal\", \"light\", \"light\", \"little\", \"little\", \"little\", \"location\", \"location\", \"location\", \"loft\", \"loft\", \"loft\", \"lovely\", \"low\", \"luminous\", \"luminous\", \"luminous\", \"meatpacke\", \"meatpacke\", \"meatpacke\", \"modern\", \"modern\", \"modern\", \"monthly\", \"monthly\", \"office\", \"office\", \"office\", \"original\", \"original\", \"original\", \"parent\", \"parent\", \"park\", \"park\", \"park\", \"parlor\", \"parlor\", \"parlor\", \"perfect\", \"perfect\", \"pied\", \"pied\", \"plant\", \"plant\", \"plant\", \"private\", \"private\", \"private\", \"queen\", \"queen\", \"queen\", \"quiet\", \"quiet\", \"quiet\", \"rental\", \"retreat\", \"retreat\", \"retreat\", \"room\", \"room\", \"share\", \"share\", \"side\", \"side\", \"side\", \"slope\", \"slope\", \"slope\", \"small\", \"small\", \"small\", \"spacious\", \"spacious\", \"spacious\", \"stop\", \"stop\", \"stop\", \"style\", \"style\", \"style\", \"sunny\", \"sunny\", \"sunny\", \"super\", \"super\", \"super\", \"top\", \"top\", \"top\", \"village\", \"village\", \"village\", \"way\", \"way\", \"welcome\", \"welcome\", \"welcome\", \"west\", \"west\", \"west\", \"window\", \"window\", \"window\", \"wonderful\"]}, \"R\": 30, \"lambda.step\": 0.01, \"plot.opts\": {\"xlab\": \"PC1\", \"ylab\": \"PC2\"}, \"topic.order\": [1, 2, 3]};\n",
       "\n",
       "function LDAvis_load_lib(url, callback){\n",
       "  var s = document.createElement('script');\n",
       "  s.src = url;\n",
       "  s.async = true;\n",
       "  s.onreadystatechange = s.onload = callback;\n",
       "  s.onerror = function(){console.warn(\"failed to load library \" + url);};\n",
       "  document.getElementsByTagName(\"head\")[0].appendChild(s);\n",
       "}\n",
       "\n",
       "if(typeof(LDAvis) !== \"undefined\"){\n",
       "   // already loaded: just create the visualization\n",
       "   !function(LDAvis){\n",
       "       new LDAvis(\"#\" + \"ldavis_el124211125104702246210404702\", ldavis_el124211125104702246210404702_data);\n",
       "   }(LDAvis);\n",
       "}else if(typeof define === \"function\" && define.amd){\n",
       "   // require.js is available: use it to load d3/LDAvis\n",
       "   require.config({paths: {d3: \"https://cdnjs.cloudflare.com/ajax/libs/d3/3.5.5/d3.min\"}});\n",
       "   require([\"d3\"], function(d3){\n",
       "      window.d3 = d3;\n",
       "      LDAvis_load_lib(\"https://cdn.rawgit.com/bmabey/pyLDAvis/files/ldavis.v1.0.0.js\", function(){\n",
       "        new LDAvis(\"#\" + \"ldavis_el124211125104702246210404702\", ldavis_el124211125104702246210404702_data);\n",
       "      });\n",
       "    });\n",
       "}else{\n",
       "    // require.js not available: dynamically load d3 & LDAvis\n",
       "    LDAvis_load_lib(\"https://cdnjs.cloudflare.com/ajax/libs/d3/3.5.5/d3.min.js\", function(){\n",
       "         LDAvis_load_lib(\"https://cdn.rawgit.com/bmabey/pyLDAvis/files/ldavis.v1.0.0.js\", function(){\n",
       "                 new LDAvis(\"#\" + \"ldavis_el124211125104702246210404702\", ldavis_el124211125104702246210404702_data);\n",
       "            })\n",
       "         });\n",
       "}\n",
       "</script>"
      ],
      "text/plain": [
       "PreparedData(topic_coordinates=              x         y  topics  cluster       Freq\n",
       "topic                                                \n",
       "0     -0.132860  0.217725       1        1  38.469746\n",
       "1     -0.204736 -0.188869       2        1  31.310192\n",
       "2      0.337596 -0.028855       3        1  30.220064, topic_info=   Category         Freq         Term        Total  loglift  logprob\n",
       "7   Default  1282.000000    apartment  1282.000000  30.0000  30.0000\n",
       "10  Default  1571.000000         room  1571.000000  29.0000  29.0000\n",
       "38  Default  1050.000000        sunny  1050.000000  28.0000  28.0000\n",
       "48  Default   934.000000        light   934.000000  27.0000  27.0000\n",
       "72  Default   939.000000         fill   939.000000  26.0000  26.0000\n",
       "..      ...          ...          ...          ...      ...      ...\n",
       "70   Topic3    12.970230  comfortable    94.409096  -0.7883  -6.2579\n",
       "92   Topic3    11.046056          top    78.725113  -0.7672  -6.4185\n",
       "95   Topic3    21.111952         loft   204.857101  -1.0758  -5.7708\n",
       "96   Topic3    21.111952       office   204.857101  -1.0758  -5.7708\n",
       "79   Topic3    12.654233     enormous   309.989441  -2.0019  -6.2826\n",
       "\n",
       "[159 rows x 6 columns], token_table=      Topic      Freq       Term\n",
       "term                            \n",
       "7         1  0.002339  apartment\n",
       "7         2  0.001559  apartment\n",
       "7         3  0.995647  apartment\n",
       "4         1  0.090782        apt\n",
       "4         2  0.907817        apt\n",
       "...     ...       ...        ...\n",
       "57        3  0.132050       west\n",
       "78        1  0.917597     window\n",
       "78        2  0.068664     window\n",
       "78        3  0.012484     window\n",
       "25        1  0.634414  wonderful\n",
       "\n",
       "[242 rows x 3 columns], R=30, lambda_step=0.01, plot_opts={'xlab': 'PC1', 'ylab': 'PC2'}, topic_order=[1, 2, 3])"
      ]
     },
     "execution_count": 19,
     "metadata": {},
     "output_type": "execute_result"
    }
   ],
   "source": [
    "# Visualize the topics\n",
    "pyLDAvis.enable_notebook()\n",
    "vis = pyLDAvis.gensim.prepare(lda_model, corpus, id2word)\n",
    "vis"
   ]
  },
  {
   "cell_type": "code",
   "execution_count": null,
   "metadata": {},
   "outputs": [],
   "source": []
  }
 ],
 "metadata": {
  "kernelspec": {
   "display_name": "Python 3",
   "language": "python",
   "name": "python3"
  },
  "language_info": {
   "codemirror_mode": {
    "name": "ipython",
    "version": 3
   },
   "file_extension": ".py",
   "mimetype": "text/x-python",
   "name": "python",
   "nbconvert_exporter": "python",
   "pygments_lexer": "ipython3",
   "version": "3.7.4"
  }
 },
 "nbformat": 4,
 "nbformat_minor": 2
}
