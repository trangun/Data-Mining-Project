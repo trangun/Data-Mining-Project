{
 "cells": [
  {
   "cell_type": "code",
   "execution_count": 1,
   "metadata": {},
   "outputs": [],
   "source": [
    "# The Usual\n",
    "import pandas as pd\n",
    "import numpy as np"
   ]
  },
  {
   "cell_type": "code",
   "execution_count": 2,
   "metadata": {},
   "outputs": [],
   "source": [
    "listings = pd.read_csv(\"listings.csv\", usecols=['id', 'review_scores_rating'])\n",
    "listings = listings.rename(columns={'id': 'listing_id'})\n",
    "\n",
    "reviews = pd.read_csv(\"reviews.csv\", usecols=['listing_id'])"
   ]
  },
  {
   "cell_type": "code",
   "execution_count": 3,
   "metadata": {},
   "outputs": [],
   "source": [
    "df = pd.merge(listings, reviews, on='listing_id')"
   ]
  },
  {
   "cell_type": "code",
   "execution_count": 5,
   "metadata": {
    "scrolled": true
   },
   "outputs": [
    {
     "data": {
      "text/html": [
       "<div>\n",
       "<style scoped>\n",
       "    .dataframe tbody tr th:only-of-type {\n",
       "        vertical-align: middle;\n",
       "    }\n",
       "\n",
       "    .dataframe tbody tr th {\n",
       "        vertical-align: top;\n",
       "    }\n",
       "\n",
       "    .dataframe thead th {\n",
       "        text-align: right;\n",
       "    }\n",
       "</style>\n",
       "<table border=\"1\" class=\"dataframe\">\n",
       "  <thead>\n",
       "    <tr style=\"text-align: right;\">\n",
       "      <th></th>\n",
       "      <th>listing_id</th>\n",
       "      <th>review_scores_rating</th>\n",
       "    </tr>\n",
       "  </thead>\n",
       "  <tbody>\n",
       "    <tr>\n",
       "      <td>0</td>\n",
       "      <td>3831</td>\n",
       "      <td>90.0</td>\n",
       "    </tr>\n",
       "    <tr>\n",
       "      <td>1</td>\n",
       "      <td>3831</td>\n",
       "      <td>90.0</td>\n",
       "    </tr>\n",
       "    <tr>\n",
       "      <td>2</td>\n",
       "      <td>3831</td>\n",
       "      <td>90.0</td>\n",
       "    </tr>\n",
       "    <tr>\n",
       "      <td>3</td>\n",
       "      <td>3831</td>\n",
       "      <td>90.0</td>\n",
       "    </tr>\n",
       "    <tr>\n",
       "      <td>4</td>\n",
       "      <td>3831</td>\n",
       "      <td>90.0</td>\n",
       "    </tr>\n",
       "  </tbody>\n",
       "</table>\n",
       "</div>"
      ],
      "text/plain": [
       "   listing_id  review_scores_rating\n",
       "0        3831                  90.0\n",
       "1        3831                  90.0\n",
       "2        3831                  90.0\n",
       "3        3831                  90.0\n",
       "4        3831                  90.0"
      ]
     },
     "execution_count": 5,
     "metadata": {},
     "output_type": "execute_result"
    }
   ],
   "source": [
    "df.head()"
   ]
  },
  {
   "cell_type": "code",
   "execution_count": 13,
   "metadata": {},
   "outputs": [
    {
     "data": {
      "text/html": [
       "<div>\n",
       "<style scoped>\n",
       "    .dataframe tbody tr th:only-of-type {\n",
       "        vertical-align: middle;\n",
       "    }\n",
       "\n",
       "    .dataframe tbody tr th {\n",
       "        vertical-align: top;\n",
       "    }\n",
       "\n",
       "    .dataframe thead th {\n",
       "        text-align: right;\n",
       "    }\n",
       "</style>\n",
       "<table border=\"1\" class=\"dataframe\">\n",
       "  <thead>\n",
       "    <tr style=\"text-align: right;\">\n",
       "      <th></th>\n",
       "      <th>listing_id</th>\n",
       "      <th>review_scores_rating</th>\n",
       "    </tr>\n",
       "  </thead>\n",
       "  <tbody>\n",
       "    <tr>\n",
       "      <td>count</td>\n",
       "      <td>1.166689e+06</td>\n",
       "      <td>1.165580e+06</td>\n",
       "    </tr>\n",
       "    <tr>\n",
       "      <td>mean</td>\n",
       "      <td>1.296548e+07</td>\n",
       "      <td>9.436372e+01</td>\n",
       "    </tr>\n",
       "    <tr>\n",
       "      <td>std</td>\n",
       "      <td>1.005105e+07</td>\n",
       "      <td>4.540814e+00</td>\n",
       "    </tr>\n",
       "    <tr>\n",
       "      <td>min</td>\n",
       "      <td>3.831000e+03</td>\n",
       "      <td>2.000000e+01</td>\n",
       "    </tr>\n",
       "    <tr>\n",
       "      <td>25%</td>\n",
       "      <td>3.768977e+06</td>\n",
       "      <td>9.200000e+01</td>\n",
       "    </tr>\n",
       "    <tr>\n",
       "      <td>50%</td>\n",
       "      <td>1.199379e+07</td>\n",
       "      <td>9.500000e+01</td>\n",
       "    </tr>\n",
       "    <tr>\n",
       "      <td>75%</td>\n",
       "      <td>2.070862e+07</td>\n",
       "      <td>9.800000e+01</td>\n",
       "    </tr>\n",
       "    <tr>\n",
       "      <td>max</td>\n",
       "      <td>3.855316e+07</td>\n",
       "      <td>1.000000e+02</td>\n",
       "    </tr>\n",
       "  </tbody>\n",
       "</table>\n",
       "</div>"
      ],
      "text/plain": [
       "         listing_id  review_scores_rating\n",
       "count  1.166689e+06          1.165580e+06\n",
       "mean   1.296548e+07          9.436372e+01\n",
       "std    1.005105e+07          4.540814e+00\n",
       "min    3.831000e+03          2.000000e+01\n",
       "25%    3.768977e+06          9.200000e+01\n",
       "50%    1.199379e+07          9.500000e+01\n",
       "75%    2.070862e+07          9.800000e+01\n",
       "max    3.855316e+07          1.000000e+02"
      ]
     },
     "execution_count": 13,
     "metadata": {},
     "output_type": "execute_result"
    }
   ],
   "source": [
    "df.describe()"
   ]
  },
  {
   "cell_type": "code",
   "execution_count": 6,
   "metadata": {},
   "outputs": [],
   "source": [
    "topics = [(0,\n",
    "  '0.037*\"need\" + 0.034*\"time\" + 0.031*\"make\" + 0.030*\"place\" + '\n",
    "  '0.026*\"amazing\" + 0.023*\"go\" + 0.021*\"get\" + 0.019*\"come\" + '\n",
    "  '0.018*\"experience\" + 0.018*\"back\"'),\n",
    " (1,\n",
    "  '0.045*\"room\" + 0.023*\"bed\" + 0.018*\"day\" + 0.017*\"night\" + 0.015*\"bathroom\" '\n",
    "  '+ 0.011*\"little\" + 0.011*\"people\" + 0.011*\"bedroom\" + 0.011*\"arrival\" + '\n",
    "  '0.010*\"small\"'),\n",
    " (2,\n",
    "  '0.070*\"nice\" + 0.069*\"good\" + 0.048*\"really\" + 0.042*\"close\" + 0.040*\"walk\" '\n",
    "  '+ 0.032*\"subway\" + 0.029*\"area\" + 0.028*\"neighborhood\" + 0.026*\"restaurant\" '\n",
    "  '+ 0.023*\"lot\"'),\n",
    " (3,\n",
    "  '0.158*\"great\" + 0.138*\"place\" + 0.101*\"host\" + 0.078*\"location\" + '\n",
    "  '0.058*\"recommend\" + 0.039*\"easy\" + 0.039*\"clean\" + 0.032*\"super\" + '\n",
    "  '0.025*\"check\" + 0.023*\"highly\"'),\n",
    " (4,\n",
    "  '0.152*\"stay\" + 0.061*\"apartment\" + 0.060*\"would\" + 0.054*\"clean\" + '\n",
    "  '0.043*\"comfortable\" + 0.040*\"definitely\" + 0.031*\"perfect\" + 0.028*\"space\" '\n",
    "  '+ 0.026*\"well\" + 0.025*\"feel\"')]"
   ]
  },
  {
   "cell_type": "code",
   "execution_count": 43,
   "metadata": {
    "scrolled": true
   },
   "outputs": [
    {
     "data": {
      "text/html": [
       "<div>\n",
       "<style scoped>\n",
       "    .dataframe tbody tr th:only-of-type {\n",
       "        vertical-align: middle;\n",
       "    }\n",
       "\n",
       "    .dataframe tbody tr th {\n",
       "        vertical-align: top;\n",
       "    }\n",
       "\n",
       "    .dataframe thead th {\n",
       "        text-align: right;\n",
       "    }\n",
       "</style>\n",
       "<table border=\"1\" class=\"dataframe\">\n",
       "  <thead>\n",
       "    <tr style=\"text-align: right;\">\n",
       "      <th></th>\n",
       "      <th>review_scores_rating</th>\n",
       "    </tr>\n",
       "    <tr>\n",
       "      <th>listing_id</th>\n",
       "      <th></th>\n",
       "    </tr>\n",
       "  </thead>\n",
       "  <tbody>\n",
       "    <tr>\n",
       "      <td>3831</td>\n",
       "      <td>25110.0</td>\n",
       "    </tr>\n",
       "    <tr>\n",
       "      <td>5022</td>\n",
       "      <td>837.0</td>\n",
       "    </tr>\n",
       "    <tr>\n",
       "      <td>5099</td>\n",
       "      <td>6675.0</td>\n",
       "    </tr>\n",
       "    <tr>\n",
       "      <td>5121</td>\n",
       "      <td>4410.0</td>\n",
       "    </tr>\n",
       "    <tr>\n",
       "      <td>5178</td>\n",
       "      <td>36769.0</td>\n",
       "    </tr>\n",
       "    <tr>\n",
       "      <td>...</td>\n",
       "      <td>...</td>\n",
       "    </tr>\n",
       "    <tr>\n",
       "      <td>38515988</td>\n",
       "      <td>100.0</td>\n",
       "    </tr>\n",
       "    <tr>\n",
       "      <td>38523034</td>\n",
       "      <td>0.0</td>\n",
       "    </tr>\n",
       "    <tr>\n",
       "      <td>38536193</td>\n",
       "      <td>0.0</td>\n",
       "    </tr>\n",
       "    <tr>\n",
       "      <td>38541362</td>\n",
       "      <td>0.0</td>\n",
       "    </tr>\n",
       "    <tr>\n",
       "      <td>38553155</td>\n",
       "      <td>0.0</td>\n",
       "    </tr>\n",
       "  </tbody>\n",
       "</table>\n",
       "<p>38726 rows × 1 columns</p>\n",
       "</div>"
      ],
      "text/plain": [
       "            review_scores_rating\n",
       "listing_id                      \n",
       "3831                     25110.0\n",
       "5022                       837.0\n",
       "5099                      6675.0\n",
       "5121                      4410.0\n",
       "5178                     36769.0\n",
       "...                          ...\n",
       "38515988                   100.0\n",
       "38523034                     0.0\n",
       "38536193                     0.0\n",
       "38541362                     0.0\n",
       "38553155                     0.0\n",
       "\n",
       "[38726 rows x 1 columns]"
      ]
     },
     "execution_count": 43,
     "metadata": {},
     "output_type": "execute_result"
    }
   ],
   "source": [
    "scores = df.groupby(['listing_id']).agg({'review_scores_rating' : 'sum'}/df.listing_id)\n",
    "scores"
   ]
  },
  {
   "cell_type": "code",
   "execution_count": 46,
   "metadata": {},
   "outputs": [
    {
     "data": {
      "text/plain": [
       "30349243      1\n",
       "24161365      1\n",
       "10016832      1\n",
       "10386831      1\n",
       "34640201      1\n",
       "           ... \n",
       "8168619     566\n",
       "10101135    605\n",
       "891117      608\n",
       "903972      618\n",
       "9145202     654\n",
       "Name: listing_id, Length: 38726, dtype: int64"
      ]
     },
     "execution_count": 46,
     "metadata": {},
     "output_type": "execute_result"
    }
   ],
   "source": [
    "count = df['listing_id'].value_counts(ascending=)\n",
    "count"
   ]
  },
  {
   "cell_type": "markdown",
   "metadata": {},
   "source": [
    "# Average Score of listings\n",
    "scores = {}\n",
    "\n",
    "count = 0\n",
    "while count < len(df):\n",
    "    scores[1] = df['listing_id'][count]\n",
    "\n"
   ]
  },
  {
   "cell_type": "code",
   "execution_count": 8,
   "metadata": {},
   "outputs": [
    {
     "data": {
      "text/plain": [
       "(0,\n",
       " '0.037*\"need\" + 0.034*\"time\" + 0.031*\"make\" + 0.030*\"place\" + 0.026*\"amazing\" + 0.023*\"go\" + 0.021*\"get\" + 0.019*\"come\" + 0.018*\"experience\" + 0.018*\"back\"')"
      ]
     },
     "execution_count": 8,
     "metadata": {},
     "output_type": "execute_result"
    }
   ],
   "source": [
    "# Percentage of keywords found in each comments\n",
    "count = 0\n",
    "for i in df[comments]"
   ]
  },
  {
   "cell_type": "code",
   "execution_count": null,
   "metadata": {},
   "outputs": [],
   "source": []
  }
 ],
 "metadata": {
  "kernelspec": {
   "display_name": "Python 3",
   "language": "python",
   "name": "python3"
  },
  "language_info": {
   "codemirror_mode": {
    "name": "ipython",
    "version": 3
   },
   "file_extension": ".py",
   "mimetype": "text/x-python",
   "name": "python",
   "nbconvert_exporter": "python",
   "pygments_lexer": "ipython3",
   "version": "3.7.4"
  }
 },
 "nbformat": 4,
 "nbformat_minor": 2
}
