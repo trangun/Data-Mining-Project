{
 "cells": [
  {
   "cell_type": "code",
   "execution_count": 1,
   "metadata": {},
   "outputs": [
    {
     "name": "stdout",
     "output_type": "stream",
     "text": [
      "[nltk_data] Downloading package stopwords to\n",
      "[nltk_data]     C:\\Users\\uyent\\AppData\\Roaming\\nltk_data...\n",
      "[nltk_data]   Package stopwords is already up-to-date!\n",
      "[nltk_data] Downloading package punkt to\n",
      "[nltk_data]     C:\\Users\\uyent\\AppData\\Roaming\\nltk_data...\n",
      "[nltk_data]   Package punkt is already up-to-date!\n"
     ]
    }
   ],
   "source": [
    "# The Usual\n",
    "import pandas as pd\n",
    "\n",
    "#NLTK\n",
    "import nltk; nltk.download('stopwords')\n",
    "nltk.download('punkt')\n",
    "from nltk.tokenize import word_tokenize\n",
    "\n",
    "# Gensim\n",
    "import gensim\n",
    "import gensim.corpora as corpora\n",
    "from gensim.utils import simple_preprocess\n",
    "from gensim.models import CoherenceModel\n",
    "\n",
    "# spacy for lemmatization\n",
    "import spacy\n",
    "import pyfpgrowth\n",
    "# FP-Growth\n",
    "# from mlxtend import frequent_patterns\n",
    "# from mlxtend.preprocessing import TransactionEncoder"
   ]
  },
  {
   "cell_type": "code",
   "execution_count": 3,
   "metadata": {},
   "outputs": [],
   "source": [
    "listings = pd.read_csv(\"listings.csv\", usecols=['id', 'name', 'description', 'neighbourhood_cleansed', 'zipcode', 'property_type', 'room_type', \n",
    "                                            'price', 'availability_365'])\n",
    "listings = listings.rename(columns={'id': 'listing_id'})\n",
    "\n",
    "reviews = pd.read_csv(\"reviews.csv\", usecols=['listing_id', 'comments'])"
   ]
  },
  {
   "cell_type": "code",
   "execution_count": 4,
   "metadata": {},
   "outputs": [],
   "source": [
    "df = pd.merge(listings, reviews, on='listing_id')"
   ]
  },
  {
   "cell_type": "code",
   "execution_count": 5,
   "metadata": {},
   "outputs": [],
   "source": [
    "from nltk.corpus import stopwords\n",
    "stop_words = stopwords.words('english')\n",
    "stop_words.extend(['from', 'subject', 're', 'edu', 'use'])"
   ]
  },
  {
   "cell_type": "code",
   "execution_count": 6,
   "metadata": {},
   "outputs": [],
   "source": [
    "def sent_to_words(sentences):\n",
    "    for sentence in sentences:\n",
    "        yield(gensim.utils.simple_preprocess(str(sentence), deacc=True))  # deacc=True removes punctuations\n",
    "\n",
    "data_words = list(sent_to_words(df['name']))\n"
   ]
  },
  {
   "cell_type": "code",
   "execution_count": 7,
   "metadata": {},
   "outputs": [],
   "source": [
    "# Define functions for stopwords, bigrams, trigrams and lemmatization\n",
    "def remove_stopwords(texts):\n",
    "    return [[word for word in simple_preprocess(str(doc)) if word not in stop_words] for doc in texts]\n",
    "\n",
    "def make_bigrams(texts):\n",
    "    return [bigram_mod[doc] for doc in texts]\n",
    "\n",
    "def make_trigrams(texts):\n",
    "    return [trigram_mod[bigram_mod[doc]] for doc in texts]\n",
    "\n",
    "def lemmatization(texts, allowed_postags=['NOUN', 'ADJ', 'VERB', 'ADV']):\n",
    "    \"\"\"https://spacy.io/api/annotation\"\"\"\n",
    "    texts_out = []\n",
    "    for sent in texts:\n",
    "        doc = nlp(\" \".join(sent)) \n",
    "        texts_out.append([token.lemma_ for token in doc if token.pos_ in allowed_postags])\n",
    "    return texts_out"
   ]
  },
  {
   "cell_type": "code",
   "execution_count": 8,
   "metadata": {},
   "outputs": [],
   "source": [
    "# Remove Stop Words\n",
    "data_words_nostops = remove_stopwords(data_words)\n"
   ]
  },
  {
   "cell_type": "code",
   "execution_count": 9,
   "metadata": {},
   "outputs": [],
   "source": [
    "# Initialize spacy 'en' model, keeping only tagger component (for efficiency)\n",
    "# ! python3 -m spacy download en_core_web_sm\n",
    "\n",
    "nlp = spacy.load('en_core_web_sm', disable=['parser', 'ner'])"
   ]
  },
  {
   "cell_type": "code",
   "execution_count": 19,
   "metadata": {},
   "outputs": [
    {
     "data": {
      "text/plain": [
       "{('full',): 10108,\n",
       " ('stylish',): 10408,\n",
       " ('backyard',): 10417,\n",
       " ('prospect',): 10440,\n",
       " ('sq',): 10495,\n",
       " ('newly',): 10582,\n",
       " ('steps',): 10719,\n",
       " ('beds',): 11331,\n",
       " ('hill',): 11581,\n",
       " ('entrance',): 11604,\n",
       " ('entrance', 'private'): 11683,\n",
       " ('nice',): 11629,\n",
       " ('perfect',): 11636,\n",
       " ('oasis',): 11646,\n",
       " ('gorgeous',): 11753,\n",
       " ('soho',): 11811,\n",
       " ('queen',): 12036,\n",
       " ('lower',): 12060,\n",
       " ('east', 'lower'): 10655,\n",
       " ('ny',): 12289,\n",
       " ('two',): 12733,\n",
       " ('kitchen',): 13172,\n",
       " ('astoria',): 13182,\n",
       " ('place',): 13267,\n",
       " ('queens',): 13349,\n",
       " ('artist',): 13385,\n",
       " ('airport',): 13412,\n",
       " ('bd',): 13890,\n",
       " ('entire',): 14278,\n",
       " ('york',): 14629,\n",
       " ('new', 'york'): 14645,\n",
       " ('view',): 14802,\n",
       " ('chelsea',): 14847,\n",
       " ('big',): 15067,\n",
       " ('amazing',): 15184,\n",
       " ('historic',): 15198,\n",
       " ('bdrm',): 15206,\n",
       " ('away',): 15416,\n",
       " ('away', 'home'): 16556,\n",
       " ('heights',): 15807,\n",
       " ('minutes',): 16592,\n",
       " ('townhouse',): 17108,\n",
       " ('comfortable',): 17130,\n",
       " ('slope',): 17676,\n",
       " ('park', 'slope'): 16980,\n",
       " ('huge',): 18346,\n",
       " ('space',): 18380,\n",
       " ('best',): 18409,\n",
       " ('prime',): 18747,\n",
       " ('duplex',): 18760,\n",
       " ('lovely',): 19172,\n",
       " ('floor',): 19214,\n",
       " ('lga',): 19324,\n",
       " ('comfy',): 19860,\n",
       " ('renovated',): 19881,\n",
       " ('house',): 20546,\n",
       " ('bathroom',): 20711,\n",
       " ('bathroom', 'private'): 18670,\n",
       " ('one',): 21078,\n",
       " ('bedroom', 'one'): 14993,\n",
       " ('east', 'upper'): 11325,\n",
       " ('side', 'upper'): 15907,\n",
       " ('city',): 21974,\n",
       " ('midtown',): 22563,\n",
       " ('train',): 23277,\n",
       " ('mins',): 23615,\n",
       " ('luxury',): 25169,\n",
       " ('suite',): 25516,\n",
       " ('private', 'suite'): 10254,\n",
       " ('west',): 26069,\n",
       " ('village', 'west'): 11120,\n",
       " ('bushwick',): 26322,\n",
       " ('side',): 27401,\n",
       " ('east', 'side'): 20195,\n",
       " ('times',): 28323,\n",
       " ('square', 'times'): 22623,\n",
       " ('close',): 29763,\n",
       " ('harlem',): 30076,\n",
       " ('great',): 30260,\n",
       " ('great', 'location'): 11191,\n",
       " ('jfk',): 31478,\n",
       " ('square',): 32035,\n",
       " ('clean',): 32548,\n",
       " ('clean', 'room'): 10651,\n",
       " ('quiet',): 33133,\n",
       " ('charming',): 33528,\n",
       " ('subway',): 33877,\n",
       " ('near', 'subway'): 10979,\n",
       " ('bath',): 34306,\n",
       " ('bath', 'private'): 22486,\n",
       " ('new',): 34546,\n",
       " ('bright',): 35577,\n",
       " ('bright', 'room'): 10268,\n",
       " ('heart',): 38850,\n",
       " ('garden',): 41376,\n",
       " ('apartment', 'garden'): 12102,\n",
       " ('location',): 42039,\n",
       " ('min',): 42084,\n",
       " ('manhattan', 'min'): 15003,\n",
       " ('modern',): 44299,\n",
       " ('brownstone',): 45946,\n",
       " ('bedroom', 'large'): 10519,\n",
       " ('large', 'private'): 12068,\n",
       " ('large', 'room'): 13985,\n",
       " ('central', 'near'): 10897,\n",
       " ('central', 'near', 'park'): 10177,\n",
       " ('central', 'room'): 11224,\n",
       " ('central', 'park'): 39477,\n",
       " ('village',): 50372,\n",
       " ('east', 'village'): 32012,\n",
       " ('loft',): 51165,\n",
       " ('bed', 'private'): 11112,\n",
       " ('bed', 'room'): 12302,\n",
       " ('apartment', 'beautiful'): 11098,\n",
       " ('beautiful', 'room'): 11758,\n",
       " ('home',): 55494,\n",
       " ('private', 'williamsburg'): 11216,\n",
       " ('room', 'williamsburg'): 12198,\n",
       " ('bedroom', 'east'): 12005,\n",
       " ('east', 'room'): 12044,\n",
       " ('nyc', 'private'): 11145,\n",
       " ('nyc', 'room'): 11602,\n",
       " ('bedroom', 'sunny'): 11881,\n",
       " ('private', 'sunny'): 12196,\n",
       " ('room', 'sunny'): 18430,\n",
       " ('cozy', 'near'): 10076,\n",
       " ('manhattan', 'near'): 10791,\n",
       " ('near', 'park'): 14591,\n",
       " ('near', 'private'): 14890,\n",
       " ('near', 'room'): 22269,\n",
       " ('apartment', 'spacious'): 10320,\n",
       " ('apt', 'spacious'): 10577,\n",
       " ('private', 'spacious'): 12337,\n",
       " ('bedroom', 'spacious'): 13997,\n",
       " ('room', 'spacious'): 16779,\n",
       " ('br', 'private'): 11989,\n",
       " ('apt', 'br'): 14870,\n",
       " ('bedroom', 'park'): 10147,\n",
       " ('park', 'private'): 11158,\n",
       " ('apt', 'park'): 12120,\n",
       " ('park', 'room'): 14223,\n",
       " ('apartment', 'studio'): 11252,\n",
       " ('cozy', 'studio'): 11358,\n",
       " ('private', 'studio'): 13762,\n",
       " ('apt', 'brooklyn'): 10762,\n",
       " ('brooklyn', 'cozy'): 11383,\n",
       " ('bedroom', 'brooklyn'): 12352,\n",
       " ('brooklyn', 'private'): 12654,\n",
       " ('apartment', 'brooklyn'): 13555,\n",
       " ('brooklyn', 'room'): 18648,\n",
       " ('cozy', 'manhattan'): 10815,\n",
       " ('bedroom', 'manhattan'): 14106,\n",
       " ('manhattan', 'private'): 17872,\n",
       " ('manhattan', 'room'): 24221,\n",
       " ('apt', 'room'): 10444,\n",
       " ('apt', 'cozy'): 11818,\n",
       " ('apt', 'private'): 18564,\n",
       " ('apt', 'bedroom'): 21130,\n",
       " ('apartment', 'cozy'): 16333,\n",
       " ('apartment', 'private'): 17128,\n",
       " ('apartment', 'bedroom'): 25687,\n",
       " ('bedroom', 'cozy'): 22201,\n",
       " ('cozy', 'private'): 25961,\n",
       " ('cozy', 'private', 'room'): 14100,\n",
       " ('cozy', 'room'): 44083,\n",
       " ('bedroom',): 165730,\n",
       " ('bedroom', 'private'): 41610,\n",
       " ('private',): 226312,\n",
       " ('private', 'room'): 103729,\n",
       " ('room',): 258758}"
      ]
     },
     "execution_count": 19,
     "metadata": {},
     "output_type": "execute_result"
    }
   ],
   "source": [
    "# te = TransactionEncoder()\n",
    "# te_ary = te.fit(data_words_bigrams).transform(data_words_bigrams)\n",
    "# df = pd.DataFrame(te_ary, columns=te.columns_)\n",
    "# df\n",
    "\n",
    "patterns= pyfpgrowth.find_frequent_patterns(data_words_nostops, 10000)\n",
    "patterns"
   ]
  },
  {
   "cell_type": "code",
   "execution_count": 20,
   "metadata": {},
   "outputs": [],
   "source": [
    "# frequent_patterns.fpgrowth(df, min_support=0.4, use_colnames=True)"
   ]
  },
  {
   "cell_type": "code",
   "execution_count": 21,
   "metadata": {},
   "outputs": [
    {
     "data": {
      "text/plain": [
       "{('entrance',): (('private',), 1.0068079972423303),\n",
       " ('lower',): (('east',), 0.8834991708126037),\n",
       " ('york',): (('new',), 1.0010937179574817),\n",
       " ('away',): (('home',), 1.0739491437467565),\n",
       " ('slope',): (('park',), 0.9606245756958588),\n",
       " ('bathroom',): (('private',), 0.9014533339771136),\n",
       " ('one',): (('bedroom',), 0.7113103710029415),\n",
       " ('side',): (('east',), 0.7370168971935331),\n",
       " ('square',): (('times',), 0.7061963477446542),\n",
       " ('times',): (('square',), 0.7987501324012287),\n",
       " ('central', 'near'): (('park',), 0.9339267688354593)}"
      ]
     },
     "execution_count": 21,
     "metadata": {},
     "output_type": "execute_result"
    }
   ],
   "source": [
    "rules = pyfpgrowth.generate_association_rules(patterns, 0.7)\n",
    "rules"
   ]
  },
  {
   "cell_type": "code",
   "execution_count": null,
   "metadata": {},
   "outputs": [],
   "source": []
  }
 ],
 "metadata": {
  "kernelspec": {
   "display_name": "Python 3",
   "language": "python",
   "name": "python3"
  },
  "language_info": {
   "codemirror_mode": {
    "name": "ipython",
    "version": 3
   },
   "file_extension": ".py",
   "mimetype": "text/x-python",
   "name": "python",
   "nbconvert_exporter": "python",
   "pygments_lexer": "ipython3",
   "version": "3.7.0"
  }
 },
 "nbformat": 4,
 "nbformat_minor": 2
}
