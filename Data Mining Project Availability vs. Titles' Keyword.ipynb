{
 "cells": [
  {
   "cell_type": "code",
   "execution_count": 1,
   "metadata": {},
   "outputs": [],
   "source": [
    "# The Usual\n",
    "import pandas as pd\n",
    "import numpy as np\n",
    "import matplotlib.pyplot as plt"
   ]
  },
  {
   "cell_type": "code",
   "execution_count": 51,
   "metadata": {},
   "outputs": [
    {
     "data": {
      "text/html": [
       "<div>\n",
       "<style scoped>\n",
       "    .dataframe tbody tr th:only-of-type {\n",
       "        vertical-align: middle;\n",
       "    }\n",
       "\n",
       "    .dataframe tbody tr th {\n",
       "        vertical-align: top;\n",
       "    }\n",
       "\n",
       "    .dataframe thead th {\n",
       "        text-align: right;\n",
       "    }\n",
       "</style>\n",
       "<table border=\"1\" class=\"dataframe\">\n",
       "  <thead>\n",
       "    <tr style=\"text-align: right;\">\n",
       "      <th></th>\n",
       "      <th>listing_id</th>\n",
       "      <th>name</th>\n",
       "      <th>availability_365</th>\n",
       "    </tr>\n",
       "  </thead>\n",
       "  <tbody>\n",
       "    <tr>\n",
       "      <th>0</th>\n",
       "      <td>3647</td>\n",
       "      <td>THE VILLAGE OF HARLEM....NEW YORK !</td>\n",
       "      <td>365</td>\n",
       "    </tr>\n",
       "    <tr>\n",
       "      <th>1</th>\n",
       "      <td>3831</td>\n",
       "      <td>Cozy Entire Floor of Brownstone</td>\n",
       "      <td>192</td>\n",
       "    </tr>\n",
       "    <tr>\n",
       "      <th>2</th>\n",
       "      <td>5022</td>\n",
       "      <td>Entire Apt: Spacious Studio/Loft by central park</td>\n",
       "      <td>0</td>\n",
       "    </tr>\n",
       "    <tr>\n",
       "      <th>3</th>\n",
       "      <td>5099</td>\n",
       "      <td>Large Cozy 1 BR Apartment In Midtown East</td>\n",
       "      <td>13</td>\n",
       "    </tr>\n",
       "    <tr>\n",
       "      <th>4</th>\n",
       "      <td>5121</td>\n",
       "      <td>BlissArtsSpace!</td>\n",
       "      <td>0</td>\n",
       "    </tr>\n",
       "  </tbody>\n",
       "</table>\n",
       "</div>"
      ],
      "text/plain": [
       "   listing_id                                              name  \\\n",
       "0        3647               THE VILLAGE OF HARLEM....NEW YORK !   \n",
       "1        3831                   Cozy Entire Floor of Brownstone   \n",
       "2        5022  Entire Apt: Spacious Studio/Loft by central park   \n",
       "3        5099         Large Cozy 1 BR Apartment In Midtown East   \n",
       "4        5121                                   BlissArtsSpace!   \n",
       "\n",
       "   availability_365  \n",
       "0               365  \n",
       "1               192  \n",
       "2                 0  \n",
       "3                13  \n",
       "4                 0  "
      ]
     },
     "execution_count": 51,
     "metadata": {},
     "output_type": "execute_result"
    }
   ],
   "source": [
    "listings = pd.read_csv(\"listings.csv\", usecols=['id', 'name','availability_365'])\n",
    "listings = listings.dropna()\n",
    "listings = listings.rename(columns={'id': 'listing_id'})\n",
    "listings.head()"
   ]
  },
  {
   "cell_type": "code",
   "execution_count": 52,
   "metadata": {},
   "outputs": [
    {
     "data": {
      "text/plain": [
       "365"
      ]
     },
     "execution_count": 52,
     "metadata": {},
     "output_type": "execute_result"
    }
   ],
   "source": [
    "listings.values[0][2]"
   ]
  },
  {
   "cell_type": "code",
   "execution_count": 53,
   "metadata": {},
   "outputs": [],
   "source": [
    "topics =[\"bedroom\",\"sunny\",\"train\",\"close\",\"clean\",\"luxury\",\"min\",\"walk\",\"huge\",\"share\",\"apartment\",\n",
    "         \"heart\",\"home\",\"time\",\"location\",\"village\",\"away\",\"good\",\"place\",\"amazing\",\"room\",\"private\",\n",
    "         \"bed\",\"large\",\"bathroom\",\"comfortable\",\"side\",\"stay\",\"park\",\"low\",\"spacious\",\"studio\",\"cozy\",\n",
    "         \"modern\",\"beautiful\",\"bright\",\"new\",\"renovate\",\"quiet\",\"view\"]\n"
   ]
  },
  {
   "cell_type": "markdown",
   "metadata": {},
   "source": [
    "# Frequency of hot keywords per listing"
   ]
  },
  {
   "cell_type": "code",
   "execution_count": 56,
   "metadata": {
    "scrolled": true
   },
   "outputs": [],
   "source": [
    "from collections import defaultdict\n",
    "high_avail = defaultdict(int)\n",
    "\n",
    "for i in listings.values:\n",
    "    if i[2] >= 0:\n",
    "\n",
    "        for word in topics:\n",
    "#             count = 0\n",
    "            if word in str(i[1]):\n",
    "#                 count += 1         \n",
    "                high_avail[word] +=1\n",
    "        "
   ]
  },
  {
   "cell_type": "code",
   "execution_count": 57,
   "metadata": {},
   "outputs": [
    {
     "data": {
      "text/plain": [
       "defaultdict(int,\n",
       "            {'park': 338,\n",
       "             'away': 706,\n",
       "             'room': 13001,\n",
       "             'studio': 949,\n",
       "             'apartment': 2566,\n",
       "             'bed': 4357,\n",
       "             'bedroom': 3418,\n",
       "             'home': 671,\n",
       "             'share': 288,\n",
       "             'private': 1767,\n",
       "             'min': 3369,\n",
       "             'bright': 248,\n",
       "             'place': 309,\n",
       "             'cozy': 703,\n",
       "             'heart': 1082,\n",
       "             'huge': 118,\n",
       "             'time': 45,\n",
       "             'luxury': 237,\n",
       "             'view': 589,\n",
       "             'location': 634,\n",
       "             'clean': 319,\n",
       "             'stay': 154,\n",
       "             'sunny': 407,\n",
       "             'bathroom': 405,\n",
       "             'close': 686,\n",
       "             'new': 292,\n",
       "             'low': 119,\n",
       "             'spacious': 564,\n",
       "             'modern': 263,\n",
       "             'renovate': 254,\n",
       "             'large': 283,\n",
       "             'side': 619,\n",
       "             'quiet': 355,\n",
       "             'comfortable': 141,\n",
       "             'train': 633,\n",
       "             'beautiful': 288,\n",
       "             'walk': 203,\n",
       "             'village': 105,\n",
       "             'amazing': 106,\n",
       "             'good': 31})"
      ]
     },
     "execution_count": 57,
     "metadata": {},
     "output_type": "execute_result"
    }
   ],
   "source": [
    "high_avail"
   ]
  },
  {
   "cell_type": "markdown",
   "metadata": {},
   "source": [
    "# Review Score vs. Keyword Ferequency"
   ]
  },
  {
   "cell_type": "code",
   "execution_count": 54,
   "metadata": {
    "scrolled": false
   },
   "outputs": [],
   "source": [
    "from collections import defaultdict\n",
    "keyword_count = {}\n",
    "\n",
    "for i in listings.values:\n",
    "    if i[2] >= 0:\n",
    "        count=0\n",
    "        for word in topics:\n",
    "            if word in str(i[1]):\n",
    "                count += 1         \n",
    "                keyword_count[i[0]] =count\n",
    "        "
   ]
  },
  {
   "cell_type": "code",
   "execution_count": 60,
   "metadata": {},
   "outputs": [
    {
     "data": {
      "text/html": [
       "<div>\n",
       "<style scoped>\n",
       "    .dataframe tbody tr th:only-of-type {\n",
       "        vertical-align: middle;\n",
       "    }\n",
       "\n",
       "    .dataframe tbody tr th {\n",
       "        vertical-align: top;\n",
       "    }\n",
       "\n",
       "    .dataframe thead th {\n",
       "        text-align: right;\n",
       "    }\n",
       "</style>\n",
       "<table border=\"1\" class=\"dataframe\">\n",
       "  <thead>\n",
       "    <tr style=\"text-align: right;\">\n",
       "      <th></th>\n",
       "      <th>keyword</th>\n",
       "      <th>keyword frequency</th>\n",
       "    </tr>\n",
       "  </thead>\n",
       "  <tbody>\n",
       "    <tr>\n",
       "      <th>0</th>\n",
       "      <td>park</td>\n",
       "      <td>338</td>\n",
       "    </tr>\n",
       "    <tr>\n",
       "      <th>1</th>\n",
       "      <td>away</td>\n",
       "      <td>706</td>\n",
       "    </tr>\n",
       "    <tr>\n",
       "      <th>2</th>\n",
       "      <td>room</td>\n",
       "      <td>13001</td>\n",
       "    </tr>\n",
       "    <tr>\n",
       "      <th>3</th>\n",
       "      <td>studio</td>\n",
       "      <td>949</td>\n",
       "    </tr>\n",
       "    <tr>\n",
       "      <th>4</th>\n",
       "      <td>apartment</td>\n",
       "      <td>2566</td>\n",
       "    </tr>\n",
       "  </tbody>\n",
       "</table>\n",
       "</div>"
      ],
      "text/plain": [
       "     keyword  keyword frequency\n",
       "0       park                338\n",
       "1       away                706\n",
       "2       room              13001\n",
       "3     studio                949\n",
       "4  apartment               2566"
      ]
     },
     "execution_count": 60,
     "metadata": {},
     "output_type": "execute_result"
    }
   ],
   "source": [
    "# cols = listing_id, frequency, avg. score\n",
    "df2 = pd.DataFrame(list(high_avail.items()), columns = ['keyword', 'keyword frequency'])\n",
    "\n",
    "# df2 = pd.concat(df2, listings)\n",
    "df2.head()\n"
   ]
  },
  {
   "cell_type": "code",
   "execution_count": 63,
   "metadata": {},
   "outputs": [
    {
     "data": {
      "text/html": [
       "<div>\n",
       "<style scoped>\n",
       "    .dataframe tbody tr th:only-of-type {\n",
       "        vertical-align: middle;\n",
       "    }\n",
       "\n",
       "    .dataframe tbody tr th {\n",
       "        vertical-align: top;\n",
       "    }\n",
       "\n",
       "    .dataframe thead th {\n",
       "        text-align: right;\n",
       "    }\n",
       "</style>\n",
       "<table border=\"1\" class=\"dataframe\">\n",
       "  <thead>\n",
       "    <tr style=\"text-align: right;\">\n",
       "      <th></th>\n",
       "      <th>listing_id</th>\n",
       "      <th>topic frequency</th>\n",
       "      <th>name</th>\n",
       "      <th>availability_365</th>\n",
       "    </tr>\n",
       "  </thead>\n",
       "  <tbody>\n",
       "    <tr>\n",
       "      <th>0</th>\n",
       "      <td>5022</td>\n",
       "      <td>1</td>\n",
       "      <td>Entire Apt: Spacious Studio/Loft by central park</td>\n",
       "      <td>0</td>\n",
       "    </tr>\n",
       "    <tr>\n",
       "      <th>1</th>\n",
       "      <td>5222</td>\n",
       "      <td>1</td>\n",
       "      <td>Best Hideaway</td>\n",
       "      <td>347</td>\n",
       "    </tr>\n",
       "    <tr>\n",
       "      <th>2</th>\n",
       "      <td>6021</td>\n",
       "      <td>1</td>\n",
       "      <td>Wonderful Guest Bedroom in Manhattan CENTRAL PARK</td>\n",
       "      <td>329</td>\n",
       "    </tr>\n",
       "    <tr>\n",
       "      <th>3</th>\n",
       "      <td>6848</td>\n",
       "      <td>1</td>\n",
       "      <td>Only 2 stops to Manhattan studio</td>\n",
       "      <td>111</td>\n",
       "    </tr>\n",
       "    <tr>\n",
       "      <th>4</th>\n",
       "      <td>8490</td>\n",
       "      <td>1</td>\n",
       "      <td>MAISON DES SIRENES1,bohemian apartment</td>\n",
       "      <td>279</td>\n",
       "    </tr>\n",
       "  </tbody>\n",
       "</table>\n",
       "</div>"
      ],
      "text/plain": [
       "   listing_id  topic frequency  \\\n",
       "0        5022                1   \n",
       "1        5222                1   \n",
       "2        6021                1   \n",
       "3        6848                1   \n",
       "4        8490                1   \n",
       "\n",
       "                                                name  availability_365  \n",
       "0   Entire Apt: Spacious Studio/Loft by central park                 0  \n",
       "1                                      Best Hideaway               347  \n",
       "2  Wonderful Guest Bedroom in Manhattan CENTRAL PARK               329  \n",
       "3                   Only 2 stops to Manhattan studio               111  \n",
       "4             MAISON DES SIRENES1,bohemian apartment               279  "
      ]
     },
     "execution_count": 63,
     "metadata": {},
     "output_type": "execute_result"
    }
   ],
   "source": [
    "# cols = listing_id, frequency, avg. score\n",
    "df3 = pd.DataFrame(list(keyword_count.items()), columns = ['listing_id', 'topic frequency'])\n",
    "\n",
    "df3 = pd.merge(df3, listings, on='listing_id')\n",
    "df3.head()"
   ]
  },
  {
   "cell_type": "code",
   "execution_count": 48,
   "metadata": {},
   "outputs": [
    {
     "data": {
      "image/png": "[encoded data removed]",
      "text/plain": [
       "<Figure size 1152x720 with 1 Axes>"
      ]
     },
     "metadata": {
      "needs_background": "light"
     },
     "output_type": "display_data"
    }
   ],
   "source": [
    "plt.figure(num=None, figsize=(16, 10))\n",
    "plt.bar(df2['keyword'], df2['keyword frequency'])\n",
    "\n",
    "plt.xticks(rotation= 45);"
   ]
  },
  {
   "cell_type": "code",
   "execution_count": 65,
   "metadata": {},
   "outputs": [
    {
     "data": {
      "text/plain": [
       "<matplotlib.collections.PathCollection at 0x1d91355c278>"
      ]
     },
     "execution_count": 65,
     "metadata": {},
     "output_type": "execute_result"
    },
    {
     "data": {
      "image/png": "[encoded data removed]",
      "text/plain": [
       "<Figure size 1152x720 with 1 Axes>"
      ]
     },
     "metadata": {
      "needs_background": "light"
     },
     "output_type": "display_data"
    }
   ],
   "source": [
    "plt.figure(num=None, figsize=(16, 10))\n",
    "plt.title('Availability vs. Title Keyword Frequency')\n",
    "plt.xlabel('Availability')\n",
    "plt.ylabel('Title Keyword Frequency')\n",
    "plt.scatter(df3['availability_365'], df3['topic frequency'], )"
   ]
  },
  {
   "cell_type": "code",
   "execution_count": null,
   "metadata": {},
   "outputs": [],
   "source": []
  },
  {
   "cell_type": "code",
   "execution_count": null,
   "metadata": {},
   "outputs": [],
   "source": []
  }
 ],
 "metadata": {
  "kernelspec": {
   "display_name": "Python 3",
   "language": "python",
   "name": "python3"
  },
  "language_info": {
   "codemirror_mode": {
    "name": "ipython",
    "version": 3
   },
   "file_extension": ".py",
   "mimetype": "text/x-python",
   "name": "python",
   "nbconvert_exporter": "python",
   "pygments_lexer": "ipython3",
   "version": "3.7.0"
  }
 },
 "nbformat": 4,
 "nbformat_minor": 2
}
