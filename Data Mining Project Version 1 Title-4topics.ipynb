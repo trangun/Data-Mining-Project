{
 "cells": [
  {
   "cell_type": "code",
   "execution_count": 1,
   "metadata": {
    "scrolled": true
   },
   "outputs": [
    {
     "name": "stdout",
     "output_type": "stream",
     "text": [
      "[nltk_data] Downloading package stopwords to\n",
      "[nltk_data]     /home/tnguy70/nltk_data...\n",
      "[nltk_data]   Package stopwords is already up-to-date!\n",
      "[nltk_data] Downloading package punkt to /home/tnguy70/nltk_data...\n",
      "[nltk_data]   Package punkt is already up-to-date!\n"
     ]
    }
   ],
   "source": [
    "import pandas as pd\n",
    "import nltk; nltk.download('stopwords')\n",
    "nltk.download('punkt')\n",
    "\n",
    "from nltk.tokenize import word_tokenize \n",
    "\n",
    "# Regular Expressions\n",
    "import re\n",
    "import numpy as np\n",
    "import pandas as pd\n",
    "from pprint import pprint\n",
    "\n",
    "# Gensim\n",
    "import gensim\n",
    "import gensim.corpora as corpora\n",
    "from gensim.utils import simple_preprocess\n",
    "from gensim.models import CoherenceModel\n",
    "\n",
    "# spacy for lemmatization\n",
    "import spacy\n",
    "\n",
    "# Plotting tools\n",
    "import pyLDAvis\n",
    "import pyLDAvis.gensim  # don't skip this\n",
    "import matplotlib.pyplot as plt\n",
    "%matplotlib inline\n",
    "\n",
    "# Enable logging for gensim - optional\n",
    "# import logging\n",
    "# logging.basicConfig(format='%(asctime)s : %(levelname)s : %(message)s', level=logging.ERROR)\n",
    "\n",
    "# import warnings\n",
    "# warnings.filterwarnings(\"ignore\",category=DeprecationWarning)\n",
    "\n",
    "# from ngram import NGram"
   ]
  },
  {
   "cell_type": "code",
   "execution_count": 2,
   "metadata": {},
   "outputs": [],
   "source": [
    "listings = pd.read_csv(\"listings.csv\", usecols=['id', 'name', 'description', 'neighbourhood_cleansed', 'zipcode', 'property_type', 'room_type', \n",
    "                                            'price', 'availability_365'])\n",
    "listings = listings.rename(columns={'id': 'listing_id'})\n",
    "\n",
    "reviews = pd.read_csv(\"reviews.csv\", usecols=['listing_id', 'comments'])"
   ]
  },
  {
   "cell_type": "code",
   "execution_count": 3,
   "metadata": {},
   "outputs": [],
   "source": [
    "df = pd.merge(listings, reviews, on='listing_id')"
   ]
  },
  {
   "cell_type": "code",
   "execution_count": 4,
   "metadata": {},
   "outputs": [],
   "source": [
    "df.describe();"
   ]
  },
  {
   "cell_type": "code",
   "execution_count": 5,
   "metadata": {},
   "outputs": [],
   "source": [
    "df.head();"
   ]
  },
  {
   "cell_type": "code",
   "execution_count": 6,
   "metadata": {},
   "outputs": [],
   "source": [
    "from nltk.corpus import stopwords\n",
    "stop_words = stopwords.words('english')\n",
    "stop_words.extend(['from', 'subject', 're', 'edu', 'use'])"
   ]
  },
  {
   "cell_type": "code",
   "execution_count": 7,
   "metadata": {},
   "outputs": [],
   "source": [
    "def sent_to_words(sentences):\n",
    "    for sentence in sentences:\n",
    "        yield(gensim.utils.simple_preprocess(str(sentence), deacc=True))  # deacc=True removes punctuations\n",
    "\n",
    "data_words = list(sent_to_words(df['name']))"
   ]
  },
  {
   "cell_type": "code",
   "execution_count": 8,
   "metadata": {},
   "outputs": [
    {
     "name": "stdout",
     "output_type": "stream",
     "text": [
      "['cozy', 'entire', 'floor', 'of', 'brownstone']\n"
     ]
    }
   ],
   "source": [
    "# Build the bigram and trigram models\n",
    "bigram = gensim.models.Phrases(data_words, min_count=5, threshold=100) # higher threshold fewer phrases.\n",
    "trigram = gensim.models.Phrases(bigram[data_words], threshold=100)  \n",
    "\n",
    "# Faster way to get a sentence clubbed as a trigram/bigram\n",
    "bigram_mod = gensim.models.phrases.Phraser(bigram)\n",
    "trigram_mod = gensim.models.phrases.Phraser(trigram)\n",
    "\n",
    "# See trigram example\n",
    "print(trigram_mod[bigram_mod[data_words[0]]])"
   ]
  },
  {
   "cell_type": "code",
   "execution_count": 9,
   "metadata": {},
   "outputs": [],
   "source": [
    "# Define functions for stopwords, bigrams, trigrams and lemmatization\n",
    "def remove_stopwords(texts):\n",
    "    return [[word for word in simple_preprocess(str(doc)) if word not in stop_words] for doc in texts]\n",
    "\n",
    "def make_bigrams(texts):\n",
    "    return [bigram_mod[doc] for doc in texts]\n",
    "\n",
    "def make_trigrams(texts):\n",
    "    return [trigram_mod[bigram_mod[doc]] for doc in texts]\n",
    "\n",
    "def lemmatization(texts, allowed_postags=['NOUN', 'ADJ', 'VERB', 'ADV']):\n",
    "    \"\"\"https://spacy.io/api/annotation\"\"\"\n",
    "    texts_out = []\n",
    "    for sent in texts:\n",
    "        doc = nlp(\" \".join(sent)) \n",
    "        texts_out.append([token.lemma_ for token in doc if token.pos_ in allowed_postags])\n",
    "    return texts_out"
   ]
  },
  {
   "cell_type": "code",
   "execution_count": 10,
   "metadata": {},
   "outputs": [
    {
     "name": "stdout",
     "output_type": "stream",
     "text": [
      "[['cozy', 'entire', 'floor', 'brownstone']]\n"
     ]
    }
   ],
   "source": [
    "# Remove Stop Words\n",
    "data_words_nostops = remove_stopwords(data_words)\n",
    "# print('type(data_words_nostops): ', type(data_words_nostops))\n",
    "\n",
    "# Form Bigrams\n",
    "data_words_bigrams = make_bigrams(data_words_nostops)\n",
    "# print('type(data_words_bigrams): ', type(data_words_bigrams))\n",
    "# print(data_words_bigrams)\n",
    "\n",
    "# Form Trigrams\n",
    "data_words_trigrams = make_trigrams(data_words_nostops)\n",
    "\n",
    "# Initialize spacy 'en' model, keeping only tagger component (for efficiency)\n",
    "# ! python3 -m spacy download en\n",
    "\n",
    "nlp = spacy.load('en_core_web_sm', disable=['parser', 'ner'])\n",
    "\n",
    "# Do lemmatization keeping only noun, adj, vb, adv\n",
    "data_lemmatized = lemmatization(data_words_trigrams, allowed_postags=['NOUN', 'ADJ', 'VERB', 'ADV'])\n",
    "\n",
    "print(data_lemmatized[:1])"
   ]
  },
  {
   "cell_type": "code",
   "execution_count": 11,
   "metadata": {},
   "outputs": [
    {
     "name": "stdout",
     "output_type": "stream",
     "text": [
      "[[(0, 1), (1, 1), (2, 1), (3, 1)]]\n"
     ]
    }
   ],
   "source": [
    "# Create Dictionary\n",
    "id2word = corpora.Dictionary(data_lemmatized)\n",
    "\n",
    "# Create Corpus\n",
    "texts = data_lemmatized\n",
    "\n",
    "# Term Document Frequency\n",
    "corpus = [id2word.doc2bow(text) for text in texts]\n",
    "\n",
    "# View\n",
    "print(corpus[:1])"
   ]
  },
  {
   "cell_type": "code",
   "execution_count": 12,
   "metadata": {},
   "outputs": [
    {
     "name": "stderr",
     "output_type": "stream",
     "text": [
      "/software/anaconda3/5.3.0/lib/python3.7/site-packages/gensim/models/ldamodel.py:821: RuntimeWarning: divide by zero encountered in double_scalars\n",
      "  perwordbound = self.bound(chunk, subsample_ratio=subsample_ratio) / (subsample_ratio * corpus_words)\n"
     ]
    }
   ],
   "source": [
    "# Build LDA model\n",
    "lda_model = gensim.models.ldamodel.LdaModel(corpus=corpus,\n",
    "                                           id2word=id2word,\n",
    "                                           num_topics=4, \n",
    "                                           random_state=100,\n",
    "                                           update_every=1,\n",
    "                                           chunksize=100,\n",
    "                                           passes=10,\n",
    "                                           alpha=2,\n",
    "                                           per_word_topics=True)"
   ]
  },
  {
   "cell_type": "code",
   "execution_count": 13,
   "metadata": {
    "scrolled": true
   },
   "outputs": [
    {
     "name": "stdout",
     "output_type": "stream",
     "text": [
      "[(0,\n",
      "  '0.205*\"bedroom\" + 0.063*\"sunny\" + 0.036*\"train\" + 0.034*\"close\" + '\n",
      "  '0.032*\"clean\" + 0.029*\"luxury\" + 0.028*\"min\" + 0.024*\"walk\" + 0.023*\"huge\" '\n",
      "  '+ 0.018*\"share\"'),\n",
      " (1,\n",
      "  '0.183*\"apartment\" + 0.056*\"heart\" + 0.047*\"home\" + 0.034*\"time\" + '\n",
      "  '0.034*\"location\" + 0.030*\"village\" + 0.026*\"away\" + 0.026*\"good\" + '\n",
      "  '0.022*\"place\" + 0.022*\"amazing\"'),\n",
      " (2,\n",
      "  '0.298*\"room\" + 0.275*\"private\" + 0.071*\"bed\" + 0.037*\"large\" + '\n",
      "  '0.035*\"bathroom\" + 0.033*\"comfortable\" + 0.028*\"side\" + 0.018*\"stay\" + '\n",
      "  '0.018*\"park\" + 0.014*\"low\"'),\n",
      " (3,\n",
      "  '0.093*\"spacious\" + 0.077*\"studio\" + 0.062*\"cozy\" + 0.058*\"modern\" + '\n",
      "  '0.057*\"beautiful\" + 0.034*\"bright\" + 0.032*\"new\" + 0.030*\"renovate\" + '\n",
      "  '0.029*\"quiet\" + 0.028*\"view\"')]\n"
     ]
    }
   ],
   "source": [
    "# Print the Keyword in the 3 topics\n",
    "pprint(lda_model.print_topics())\n",
    "doc_lda = lda_model[corpus]"
   ]
  },
  {
   "cell_type": "code",
   "execution_count": 14,
   "metadata": {},
   "outputs": [
    {
     "name": "stdout",
     "output_type": "stream",
     "text": [
      "\n",
      "Perplexity:  -5.521068727981805\n",
      "\n",
      "Coherence Score:  0.27562559996938696\n"
     ]
    }
   ],
   "source": [
    "# Compute Perplexity\n",
    "print('\\nPerplexity: ', lda_model.log_perplexity(corpus))  # a measure of how good the model is. lower the better.\n",
    "\n",
    "# Compute Coherence Score\n",
    "coherence_model_lda = CoherenceModel(model=lda_model, texts=data_lemmatized, dictionary=id2word, coherence='c_v')\n",
    "coherence_lda = coherence_model_lda.get_coherence()\n",
    "print('\\nCoherence Score: ', coherence_lda)"
   ]
  },
  {
   "cell_type": "code",
   "execution_count": 15,
   "metadata": {
    "scrolled": false
   },
   "outputs": [
    {
     "name": "stderr",
     "output_type": "stream",
     "text": [
      "/software/anaconda3/5.3.0/lib/python3.7/site-packages/pyLDAvis/_prepare.py:257: FutureWarning: Sorting because non-concatenation axis is not aligned. A future version\n",
      "of pandas will change to not sort by default.\n",
      "\n",
      "To accept the future behavior, pass 'sort=False'.\n",
      "\n",
      "To retain the current behavior and silence the warning, pass 'sort=True'.\n",
      "\n",
      "  return pd.concat([default_term_info] + list(topic_dfs))\n"
     ]
    },
    {
     "data": {
      "text/html": [
       "\n",
       "<link rel=\"stylesheet\" type=\"text/css\" href=\"https://cdn.rawgit.com/bmabey/pyLDAvis/files/ldavis.v1.0.0.css\">\n",
       "\n",
       "\n",
       "<div id=\"ldavis_el20347478751645784649907972401\"></div>\n",
       "<script type=\"text/javascript\">\n",
       "\n",
       "var ldavis_el20347478751645784649907972401_data = {\"mdsDat\": {\"x\": [0.4072226368237853, -0.1421566795647588, -0.0984891565230691, -0.16657680073595743], \"y\": [0.008819745192430789, -0.35512732280051434, 0.05304174442962344, 0.29326583317846017], \"topics\": [1, 2, 3, 4], \"cluster\": [1, 1, 1, 1], \"Freq\": [25.8363037109375, 24.926939010620117, 24.69701385498047, 24.539743423461914]}, \"tinfo\": {\"Category\": [\"Default\", \"Default\", \"Default\", \"Default\", \"Default\", \"Default\", \"Default\", \"Default\", \"Default\", \"Default\", \"Default\", \"Default\", \"Default\", \"Default\", \"Default\", \"Default\", \"Default\", \"Default\", \"Default\", \"Default\", \"Default\", \"Default\", \"Default\", \"Default\", \"Default\", \"Default\", \"Default\", \"Default\", \"Default\", \"Default\", \"Topic1\", \"Topic1\", \"Topic1\", \"Topic1\", \"Topic1\", \"Topic1\", \"Topic1\", \"Topic1\", \"Topic1\", \"Topic1\", \"Topic1\", \"Topic1\", \"Topic1\", \"Topic1\", \"Topic1\", \"Topic1\", \"Topic1\", \"Topic1\", \"Topic1\", \"Topic1\", \"Topic1\", \"Topic1\", \"Topic1\", \"Topic1\", \"Topic1\", \"Topic1\", \"Topic1\", \"Topic1\", \"Topic1\", \"Topic1\", \"Topic1\", \"Topic1\", \"Topic1\", \"Topic1\", \"Topic2\", \"Topic2\", \"Topic2\", \"Topic2\", \"Topic2\", \"Topic2\", \"Topic2\", \"Topic2\", \"Topic2\", \"Topic2\", \"Topic2\", \"Topic2\", \"Topic2\", \"Topic2\", \"Topic2\", \"Topic2\", \"Topic2\", \"Topic2\", \"Topic2\", \"Topic2\", \"Topic2\", \"Topic2\", \"Topic2\", \"Topic2\", \"Topic2\", \"Topic2\", \"Topic2\", \"Topic2\", \"Topic2\", \"Topic2\", \"Topic2\", \"Topic2\", \"Topic3\", \"Topic3\", \"Topic3\", \"Topic3\", \"Topic3\", \"Topic3\", \"Topic3\", \"Topic3\", \"Topic3\", \"Topic3\", \"Topic3\", \"Topic3\", \"Topic3\", \"Topic3\", \"Topic3\", \"Topic3\", \"Topic3\", \"Topic3\", \"Topic3\", \"Topic3\", \"Topic3\", \"Topic3\", \"Topic3\", \"Topic3\", \"Topic3\", \"Topic3\", \"Topic3\", \"Topic3\", \"Topic3\", \"Topic3\", \"Topic4\", \"Topic4\", \"Topic4\", \"Topic4\", \"Topic4\", \"Topic4\", \"Topic4\", \"Topic4\", \"Topic4\", \"Topic4\", \"Topic4\", \"Topic4\", \"Topic4\", \"Topic4\", \"Topic4\", \"Topic4\", \"Topic4\", \"Topic4\", \"Topic4\", \"Topic4\", \"Topic4\", \"Topic4\", \"Topic4\", \"Topic4\", \"Topic4\", \"Topic4\", \"Topic4\", \"Topic4\", \"Topic4\", \"Topic4\", \"Topic4\"], \"Freq\": [209651.0, 193295.0, 137641.0, 121956.0, 63365.0, 52439.0, 49894.0, 42480.0, 42161.0, 39174.0, 38768.0, 37557.0, 31302.0, 25872.0, 23898.0, 24501.0, 23397.0, 22986.0, 22772.0, 22639.0, 23134.0, 21897.0, 21274.0, 20150.0, 20187.0, 19723.0, 19526.0, 19748.0, 18816.0, 18862.0, 209650.609375, 193295.0, 49893.87109375, 25871.94921875, 24500.6796875, 23133.970703125, 19748.220703125, 12955.8193359375, 12737.4287109375, 9813.359375, 8883.375, 8106.00390625, 8461.9130859375, 7061.71435546875, 5985.400390625, 5992.53857421875, 4950.14892578125, 4827.48046875, 3245.66259765625, 2742.903564453125, 2544.9150390625, 2199.32177734375, 1791.59912109375, 1161.403076171875, 995.415283203125, 774.878173828125, 2084.853515625, 690.4344482421875, 1811.277099609375, 2293.1650390625, 1625.1241455078125, 1897.94189453125, 1605.387451171875, 1219.8094482421875, 63364.52734375, 52438.98046875, 42161.203125, 39173.8984375, 38767.64453125, 23396.923828125, 21896.568359375, 20186.80078125, 19722.30859375, 18861.94921875, 15792.1416015625, 14556.77734375, 13502.3544921875, 13288.41015625, 13150.3125, 12600.142578125, 12280.6796875, 12335.4541015625, 11467.333984375, 11568.703125, 10152.58984375, 9973.5556640625, 9207.2587890625, 9278.697265625, 8628.9658203125, 7379.93115234375, 5499.4384765625, 5326.1171875, 5108.46826171875, 3959.094970703125, 4173.75244140625, 5581.33740234375, 137640.796875, 42479.70703125, 23897.650390625, 22638.24609375, 21273.986328125, 19526.22265625, 18815.947265625, 16121.478515625, 15382.2919921875, 12255.4873046875, 11284.146484375, 9418.4599609375, 8279.013671875, 9887.75, 8402.0966796875, 8175.01025390625, 7764.650390625, 7727.38427734375, 7493.53662109375, 6614.134765625, 6379.24462890625, 6201.1181640625, 6057.64453125, 5854.16455078125, 5882.041015625, 5780.12841796875, 5806.98681640625, 5186.619140625, 5081.23193359375, 5101.4443359375, 121955.4921875, 37557.15625, 31301.73046875, 22985.693359375, 22771.833984375, 20150.197265625, 17133.41015625, 17121.125, 14569.197265625, 14423.0224609375, 12933.5078125, 10191.30078125, 9099.9931640625, 8982.6376953125, 9111.5263671875, 8234.0234375, 7831.83544921875, 6924.298828125, 6772.22265625, 6693.33154296875, 6097.62451171875, 5925.44189453125, 6023.2958984375, 5902.19873046875, 5845.6640625, 6068.49267578125, 5486.671875, 5479.07861328125, 5130.25390625, 5029.96875, 6021.853515625], \"Term\": [\"room\", \"private\", \"bedroom\", \"apartment\", \"spacious\", \"studio\", \"bed\", \"sunny\", \"cozy\", \"modern\", \"beautiful\", \"heart\", \"home\", \"large\", \"train\", \"bathroom\", \"bright\", \"time\", \"location\", \"close\", \"comfortable\", \"new\", \"clean\", \"village\", \"renovate\", \"quiet\", \"luxury\", \"side\", \"min\", \"view\", \"room\", \"private\", \"bed\", \"large\", \"bathroom\", \"comfortable\", \"side\", \"stay\", \"park\", \"low\", \"single\", \"brownstone\", \"flush\", \"convenient\", \"east\", \"nice\", \"shared\", \"historic\", \"slope\", \"size\", \"people\", \"rent\", \"double\", \"stuy\", \"extra\", \"upper\", \"comfy\", \"budget\", \"center\", \"station\", \"twin\", \"bronx\", \"quite\", \"delightful\", \"spacious\", \"studio\", \"cozy\", \"modern\", \"beautiful\", \"bright\", \"new\", \"renovate\", \"quiet\", \"view\", \"great\", \"minute\", \"entire\", \"subway\", \"downtown\", \"newly\", \"gorgeous\", \"full\", \"floor\", \"midtown\", \"space\", \"garden\", \"next\", \"charming\", \"brand\", \"loft\", \"building\", \"family\", \"top\", \"high\", \"bohemian\", \"sond\", \"bedroom\", \"sunny\", \"train\", \"close\", \"clean\", \"luxury\", \"min\", \"walk\", \"huge\", \"share\", \"big\", \"backyard\", \"apt\", \"hotel\", \"affordable\", \"block\", \"chic\", \"neighborhood\", \"entrance\", \"flat\", \"sleep\", \"small\", \"little\", \"guest\", \"super\", \"bath\", \"open\", \"area\", \"city\", \"height\", \"apartment\", \"heart\", \"home\", \"time\", \"location\", \"village\", \"away\", \"good\", \"place\", \"amazing\", \"queen\", \"lovely\", \"oasis\", \"step\", \"luxurious\", \"cute\", \"stylish\", \"friendly\", \"artist\", \"parking\", \"perfect\", \"fill\", \"live\", \"penthouse\", \"square\", \"light\", \"locate\", \"experience\", \"designer\", \"stunning\", \"relax\"], \"Total\": [209651.0, 193295.0, 137641.0, 121956.0, 63365.0, 52439.0, 49894.0, 42480.0, 42161.0, 39174.0, 38768.0, 37557.0, 31302.0, 25872.0, 23898.0, 24501.0, 23397.0, 22986.0, 22772.0, 22639.0, 23134.0, 21897.0, 21274.0, 20150.0, 20187.0, 19723.0, 19526.0, 19748.0, 18816.0, 18862.0, 209651.375, 193295.765625, 49894.63671875, 25872.708984375, 24501.443359375, 23134.734375, 19748.98046875, 12956.599609375, 12738.2041015625, 9814.1298828125, 8884.140625, 8106.775390625, 8462.73828125, 7062.484375, 5986.1630859375, 5993.306640625, 4950.93505859375, 4828.26953125, 3246.418212890625, 2743.66357421875, 2545.6796875, 2200.109375, 1792.3568115234375, 1162.1480712890625, 996.1720581054688, 775.6743774414062, 2087.712646484375, 691.53076171875, 1815.4810791015625, 2298.574462890625, 1635.0643310546875, 1923.9947509765625, 1627.9930419921875, 1276.3187255859375, 63365.30078125, 52439.74609375, 42161.984375, 39174.671875, 38768.41796875, 23397.689453125, 21897.341796875, 20187.560546875, 19723.0859375, 18862.71875, 15792.916015625, 14557.5546875, 13503.1298828125, 13289.1826171875, 13151.09375, 12600.9033203125, 12281.458984375, 12336.25390625, 11468.1025390625, 11569.4921875, 10153.35546875, 9974.326171875, 9208.03515625, 9279.4892578125, 8629.73828125, 7380.7060546875, 5500.2177734375, 5326.90869140625, 5109.24853515625, 3959.867431640625, 4174.685546875, 6736.91748046875, 137641.5625, 42480.46875, 23898.40625, 22639.00390625, 21274.751953125, 19526.98828125, 18816.71484375, 16122.2451171875, 15383.05859375, 12256.248046875, 11284.91796875, 9419.2216796875, 8279.7744140625, 9888.662109375, 8402.8759765625, 8175.77392578125, 7765.41748046875, 7728.173828125, 7494.306640625, 6614.9140625, 6380.0029296875, 6201.888671875, 6058.41650390625, 5854.92333984375, 5882.81591796875, 5780.892578125, 5807.77099609375, 5187.38330078125, 5081.98583984375, 5102.2041015625, 121956.2734375, 37557.93359375, 31302.505859375, 22986.470703125, 22772.623046875, 20150.984375, 17134.19140625, 17121.90625, 14569.9794921875, 14423.8037109375, 12934.3154296875, 10192.08984375, 9100.77734375, 8983.4267578125, 9112.341796875, 8234.8193359375, 7832.6162109375, 6925.0888671875, 6773.01513671875, 6694.1142578125, 6098.40625, 5926.2158203125, 6024.0888671875, 5902.984375, 5846.44482421875, 6069.30810546875, 5487.4443359375, 5479.880859375, 5131.04296875, 5030.75537109375, 6022.97265625], \"loglift\": [30.0, 29.0, 28.0, 27.0, 26.0, 25.0, 24.0, 23.0, 22.0, 21.0, 20.0, 19.0, 18.0, 17.0, 16.0, 15.0, 14.0, 13.0, 12.0, 11.0, 10.0, 9.0, 8.0, 7.0, 6.0, 5.0, 4.0, 3.0, 2.0, 1.0, 1.3533999919891357, 1.3533999919891357, 1.3533999919891357, 1.3533999919891357, 1.3533999919891357, 1.3533999919891357, 1.3533999919891357, 1.3532999753952026, 1.3532999753952026, 1.3532999753952026, 1.3532999753952026, 1.3532999753952026, 1.3532999753952026, 1.3532999753952026, 1.3532999753952026, 1.3532999753952026, 1.3531999588012695, 1.3531999588012695, 1.3531999588012695, 1.3530999422073364, 1.3530999422073364, 1.3530000448226929, 1.3530000448226929, 1.3526999950408936, 1.3525999784469604, 1.3523999452590942, 1.3519999980926514, 1.3517999649047852, 1.351099967956543, 1.3509999513626099, 1.3473000526428223, 1.3398000001907349, 1.339400053024292, 1.3080999851226807, 1.38919997215271, 1.38919997215271, 1.38919997215271, 1.38919997215271, 1.38919997215271, 1.38919997215271, 1.38919997215271, 1.38919997215271, 1.38919997215271, 1.38919997215271, 1.38919997215271, 1.38919997215271, 1.38919997215271, 1.38919997215271, 1.38919997215271, 1.38919997215271, 1.38919997215271, 1.38919997215271, 1.38919997215271, 1.38919997215271, 1.3890999555587769, 1.3890999555587769, 1.3890999555587769, 1.3890999555587769, 1.3890999555587769, 1.3890999555587769, 1.3890999555587769, 1.3890999555587769, 1.3890999555587769, 1.3890000581741333, 1.3890000581741333, 1.2009999752044678, 1.3984999656677246, 1.3984999656677246, 1.3984999656677246, 1.3984999656677246, 1.3984999656677246, 1.3983999490737915, 1.3983999490737915, 1.3983999490737915, 1.3983999490737915, 1.3983999490737915, 1.3983999490737915, 1.3983999490737915, 1.3983999490737915, 1.3983999490737915, 1.3983999490737915, 1.3983999490737915, 1.3983999490737915, 1.3983999490737915, 1.3983999490737915, 1.3983999490737915, 1.3983999490737915, 1.3983999490737915, 1.3983999490737915, 1.3983999490737915, 1.3983999490737915, 1.3983999490737915, 1.3983999490737915, 1.398300051689148, 1.398300051689148, 1.398300051689148, 1.4048999547958374, 1.4048999547958374, 1.4048999547958374, 1.4048000574111938, 1.4048000574111938, 1.4048000574111938, 1.4048000574111938, 1.4048000574111938, 1.4048000574111938, 1.4048000574111938, 1.4048000574111938, 1.4048000574111938, 1.4048000574111938, 1.4048000574111938, 1.4048000574111938, 1.4048000574111938, 1.4048000574111938, 1.4048000574111938, 1.4048000574111938, 1.4048000574111938, 1.4047000408172607, 1.4047000408172607, 1.4047000408172607, 1.4047000408172607, 1.4047000408172607, 1.4047000408172607, 1.4047000408172607, 1.4047000408172607, 1.4047000408172607, 1.4047000408172607, 1.4047000408172607], \"logprob\": [30.0, 29.0, 28.0, 27.0, 26.0, 25.0, 24.0, 23.0, 22.0, 21.0, 20.0, 19.0, 18.0, 17.0, 16.0, 15.0, 14.0, 13.0, 12.0, 11.0, 10.0, 9.0, 8.0, 7.0, 6.0, 5.0, 4.0, 3.0, 2.0, 1.0, -1.2105000019073486, -1.291700005531311, -2.6461000442504883, -3.302799940109253, -3.357300043106079, -3.4147000312805176, -3.5729000568389893, -3.9944000244140625, -4.01140022277832, -4.272200107574463, -4.371799945831299, -4.463399887084961, -4.420400142669678, -4.60129976272583, -4.766600131988525, -4.765500068664551, -4.956500053405762, -4.981599807739258, -5.378600120544434, -5.546999931335449, -5.6219000816345215, -5.7677998542785645, -5.972899913787842, -6.406300067901611, -6.5605998039245605, -6.810999870300293, -5.821300029754639, -6.926400184631348, -5.961900234222412, -5.72599983215332, -6.070400238037109, -5.915200233459473, -6.082600116729736, -6.3572998046875, -2.3712000846862793, -2.560499906539917, -2.778599977493286, -2.852099895477295, -2.862499952316284, -3.367500066757202, -3.433799982070923, -3.5151000022888184, -3.5383999347686768, -3.5829999446868896, -3.7606000900268555, -3.842099905014038, -3.91729998588562, -3.933199882507324, -3.943700075149536, -3.9863998889923096, -4.0121002197265625, -4.007699966430664, -4.080599784851074, -4.071800231933594, -4.202400207519531, -4.220200061798096, -4.300099849700928, -4.292399883270264, -4.364999771118164, -4.521399974822998, -4.815499782562256, -4.847499847412109, -4.889200210571289, -5.144100189208984, -5.091300010681152, -4.8007001876831055, -1.5861999988555908, -2.7618000507354736, -3.337100028991699, -3.391200065612793, -3.453399896621704, -3.539099931716919, -3.576200008392334, -3.7307000160217285, -3.7776999473571777, -4.004899978637695, -4.087500095367432, -4.268199920654297, -4.39709997177124, -4.219600200653076, -4.382400035858154, -4.409800052642822, -4.461299896240234, -4.466100215911865, -4.496799945831299, -4.621699810028076, -4.657800197601318, -4.686100006103516, -4.709499835968018, -4.74370002746582, -4.738999843597412, -4.756400108337402, -4.751800060272217, -4.864799976348877, -4.885300159454346, -4.88129997253418, -1.7007999420166016, -2.8785998821258545, -3.060800075531006, -3.3696000576019287, -3.378999948501587, -3.501300096511841, -3.6633999347686768, -3.6642000675201416, -3.8255999088287354, -3.835700035095215, -3.944700002670288, -4.1828999519348145, -4.296199798583984, -4.309199810028076, -4.294899940490723, -4.396200180053711, -4.446300029754639, -4.569399833679199, -4.591700077056885, -4.603400230407715, -4.696599960327148, -4.725200176239014, -4.708799839019775, -4.7291998863220215, -4.738800048828125, -4.701399803161621, -4.802199840545654, -4.803500175476074, -4.86929988861084, -4.889100074768066, -4.709099769592285]}, \"token.table\": {\"Topic\": [3, 4, 4, 3, 3, 4, 4, 3, 3, 1, 2, 1, 3, 3, 3, 2, 2, 2, 1, 2, 3, 4, 1, 1, 2, 1, 3, 2, 3, 3, 3, 3, 1, 1, 2, 3, 4, 1, 2, 4, 1, 2, 3, 4, 4, 1, 2, 1, 2, 3, 4, 1, 2, 4, 3, 2, 1, 4, 2, 2, 4, 2, 2, 3, 4, 3, 2, 1, 4, 3, 3, 1, 4, 3, 4, 4, 4, 2, 4, 1, 4, 3, 2, 3, 2, 2, 3, 2, 2, 2, 1, 4, 3, 1, 4, 4, 1, 4, 4, 1, 4, 2, 1, 2, 3, 4, 3, 4, 2, 1, 1, 3, 1, 1, 1, 1, 3, 1, 3, 1, 2, 3, 4, 2, 2, 4, 1, 2, 3, 1, 4, 2, 4, 1, 4, 2, 3, 3, 4, 2, 3, 1, 2, 3, 1, 2, 4, 3], \"Freq\": [0.9998957514762878, 0.999944269657135, 0.9999895691871643, 0.9999064803123474, 0.9999260902404785, 0.9998500943183899, 0.9999304413795471, 0.9998703002929688, 0.9998456239700317, 0.9999818801879883, 0.9999892115592957, 0.9999872446060181, 0.9999958872795105, 0.9999186396598816, 0.9999053478240967, 0.9998357892036438, 0.9999144673347473, 0.999970555305481, 0.9864891767501831, 0.0025987597182393074, 0.005717271473258734, 0.005197519436478615, 0.9999043345451355, 0.9977864027023315, 0.9997785687446594, 0.9975317120552063, 0.00220327265560627, 0.9999472498893738, 0.9999462366104126, 0.9998059868812561, 0.9999646544456482, 0.9999556541442871, 0.9999682307243347, 0.9987006783485413, 0.0004789931117556989, 0.0004789931117556989, 0.0004789931117556989, 0.9999313950538635, 0.999976634979248, 0.9999005198478699, 0.9558740854263306, 0.004701020196080208, 0.02585561014711857, 0.014103060588240623, 0.9997967481613159, 0.9998009204864502, 0.9999168515205383, 0.9998056888580322, 0.9999163150787354, 0.9999591112136841, 0.9998392462730408, 0.9988234639167786, 0.9998294115066528, 0.9997948408126831, 0.9998618364334106, 0.9999038577079773, 0.9999127388000488, 0.9998427629470825, 0.999898374080658, 0.9999672770500183, 0.9999470710754395, 0.9999626278877258, 0.9999420046806335, 0.9998422861099243, 0.9999751448631287, 0.9997640252113342, 0.9997809529304504, 0.9997370839118958, 0.9999838471412659, 0.9999330639839172, 0.9999311566352844, 0.9999725818634033, 0.9997844696044922, 0.999931275844574, 0.9998192191123962, 0.9999189972877502, 0.9999726414680481, 0.9999043345451355, 0.999893069267273, 0.999884843826294, 0.9999625086784363, 0.9999493956565857, 0.9999574422836304, 0.9999620318412781, 0.9999619126319885, 0.9999828338623047, 0.9998481273651123, 0.9999843835830688, 0.9999282956123352, 0.9998875856399536, 0.9999488592147827, 0.9999145865440369, 0.9998672604560852, 0.9999054670333862, 0.9998335242271423, 0.9998332262039185, 0.999733030796051, 0.9999333620071411, 0.9999327659606934, 0.9999960660934448, 0.9999756217002869, 0.9999449253082275, 0.9858764410018921, 0.005528279114514589, 0.005528279114514589, 0.002457012888044119, 0.00016603096446488053, 0.9998385310173035, 0.9999722242355347, 0.9994957447052002, 0.9999982118606567, 0.9998981952667236, 0.9998111128807068, 0.9999503493309021, 0.9998716115951538, 0.9997581243515015, 0.9998428225517273, 0.9998711943626404, 0.99985671043396, 0.00014843583630863577, 0.8284204006195068, 0.03666365146636963, 0.13463130593299866, 0.9999650120735168, 0.999995231628418, 0.9999239444732666, 0.9975748062133789, 0.0004350522649474442, 0.00217526126652956, 0.9999537467956543, 0.999952495098114, 0.9999857544898987, 0.9998498558998108, 0.9990121126174927, 0.9999213218688965, 0.9999110102653503, 0.9999889731407166, 0.9998612999916077, 0.9999794960021973, 0.9997556209564209, 0.999983012676239, 0.9938446879386902, 0.0018347902223467827, 0.004281177185475826, 0.9991306066513062, 0.9999619126319885, 0.9999511241912842, 0.9999227523803711], \"Term\": [\"affordable\", \"amazing\", \"apartment\", \"apt\", \"area\", \"artist\", \"away\", \"backyard\", \"bath\", \"bathroom\", \"beautiful\", \"bed\", \"bedroom\", \"big\", \"block\", \"bohemian\", \"brand\", \"bright\", \"bronx\", \"bronx\", \"bronx\", \"bronx\", \"brownstone\", \"budget\", \"building\", \"center\", \"center\", \"charming\", \"chic\", \"city\", \"clean\", \"close\", \"comfortable\", \"comfy\", \"comfy\", \"comfy\", \"comfy\", \"convenient\", \"cozy\", \"cute\", \"delightful\", \"delightful\", \"delightful\", \"delightful\", \"designer\", \"double\", \"downtown\", \"east\", \"entire\", \"entrance\", \"experience\", \"extra\", \"family\", \"fill\", \"flat\", \"floor\", \"flush\", \"friendly\", \"full\", \"garden\", \"good\", \"gorgeous\", \"great\", \"guest\", \"heart\", \"height\", \"high\", \"historic\", \"home\", \"hotel\", \"huge\", \"large\", \"light\", \"little\", \"live\", \"locate\", \"location\", \"loft\", \"lovely\", \"low\", \"luxurious\", \"luxury\", \"midtown\", \"min\", \"minute\", \"modern\", \"neighborhood\", \"new\", \"newly\", \"next\", \"nice\", \"oasis\", \"open\", \"park\", \"parking\", \"penthouse\", \"people\", \"perfect\", \"place\", \"private\", \"queen\", \"quiet\", \"quite\", \"quite\", \"quite\", \"quite\", \"relax\", \"relax\", \"renovate\", \"rent\", \"room\", \"share\", \"shared\", \"side\", \"single\", \"size\", \"sleep\", \"slope\", \"small\", \"sond\", \"sond\", \"sond\", \"sond\", \"space\", \"spacious\", \"square\", \"station\", \"station\", \"station\", \"stay\", \"step\", \"studio\", \"stunning\", \"stuy\", \"stylish\", \"subway\", \"sunny\", \"super\", \"time\", \"top\", \"train\", \"twin\", \"twin\", \"twin\", \"upper\", \"view\", \"village\", \"walk\"]}, \"R\": 30, \"lambda.step\": 0.01, \"plot.opts\": {\"xlab\": \"PC1\", \"ylab\": \"PC2\"}, \"topic.order\": [3, 4, 1, 2]};\n",
       "\n",
       "function LDAvis_load_lib(url, callback){\n",
       "  var s = document.createElement('script');\n",
       "  s.src = url;\n",
       "  s.async = true;\n",
       "  s.onreadystatechange = s.onload = callback;\n",
       "  s.onerror = function(){console.warn(\"failed to load library \" + url);};\n",
       "  document.getElementsByTagName(\"head\")[0].appendChild(s);\n",
       "}\n",
       "\n",
       "if(typeof(LDAvis) !== \"undefined\"){\n",
       "   // already loaded: just create the visualization\n",
       "   !function(LDAvis){\n",
       "       new LDAvis(\"#\" + \"ldavis_el20347478751645784649907972401\", ldavis_el20347478751645784649907972401_data);\n",
       "   }(LDAvis);\n",
       "}else if(typeof define === \"function\" && define.amd){\n",
       "   // require.js is available: use it to load d3/LDAvis\n",
       "   require.config({paths: {d3: \"https://cdnjs.cloudflare.com/ajax/libs/d3/3.5.5/d3.min\"}});\n",
       "   require([\"d3\"], function(d3){\n",
       "      window.d3 = d3;\n",
       "      LDAvis_load_lib(\"https://cdn.rawgit.com/bmabey/pyLDAvis/files/ldavis.v1.0.0.js\", function(){\n",
       "        new LDAvis(\"#\" + \"ldavis_el20347478751645784649907972401\", ldavis_el20347478751645784649907972401_data);\n",
       "      });\n",
       "    });\n",
       "}else{\n",
       "    // require.js not available: dynamically load d3 & LDAvis\n",
       "    LDAvis_load_lib(\"https://cdnjs.cloudflare.com/ajax/libs/d3/3.5.5/d3.min.js\", function(){\n",
       "         LDAvis_load_lib(\"https://cdn.rawgit.com/bmabey/pyLDAvis/files/ldavis.v1.0.0.js\", function(){\n",
       "                 new LDAvis(\"#\" + \"ldavis_el20347478751645784649907972401\", ldavis_el20347478751645784649907972401_data);\n",
       "            })\n",
       "         });\n",
       "}\n",
       "</script>"
      ],
      "text/plain": [
       "PreparedData(topic_coordinates=              x         y  topics  cluster       Freq\n",
       "topic                                                \n",
       "2      0.407223  0.008820       1        1  25.836304\n",
       "3     -0.142157 -0.355127       2        1  24.926939\n",
       "0     -0.098489  0.053042       3        1  24.697014\n",
       "1     -0.166577  0.293266       4        1  24.539743, topic_info=     Category           Freq         Term          Total  loglift  logprob\n",
       "term                                                                      \n",
       "10    Default  209651.000000         room  209651.000000  30.0000  30.0000\n",
       "60    Default  193295.000000      private  193295.000000  29.0000  29.0000\n",
       "24    Default  137641.000000      bedroom  137641.000000  28.0000  28.0000\n",
       "7     Default  121956.000000    apartment  121956.000000  27.0000  27.0000\n",
       "5     Default   63365.000000     spacious   63365.000000  26.0000  26.0000\n",
       "6     Default   52439.000000       studio   52439.000000  25.0000  25.0000\n",
       "40    Default   49894.000000          bed   49894.000000  24.0000  24.0000\n",
       "38    Default   42480.000000        sunny   42480.000000  23.0000  23.0000\n",
       "1     Default   42161.000000         cozy   42161.000000  22.0000  22.0000\n",
       "76    Default   39174.000000       modern   39174.000000  21.0000  21.0000\n",
       "55    Default   38768.000000    beautiful   38768.000000  20.0000  20.0000\n",
       "73    Default   37557.000000        heart   37557.000000  19.0000  19.0000\n",
       "51    Default   31302.000000         home   31302.000000  18.0000  18.0000\n",
       "8     Default   25872.000000        large   25872.000000  17.0000  17.0000\n",
       "224   Default   23898.000000        train   23898.000000  16.0000  16.0000\n",
       "85    Default   24501.000000     bathroom   24501.000000  15.0000  15.0000\n",
       "62    Default   23397.000000       bright   23397.000000  14.0000  14.0000\n",
       "102   Default   22986.000000         time   22986.000000  13.0000  13.0000\n",
       "66    Default   22772.000000     location   22772.000000  12.0000  12.0000\n",
       "178   Default   22639.000000        close   22639.000000  11.0000  11.0000\n",
       "70    Default   23134.000000  comfortable   23134.000000  10.0000  10.0000\n",
       "168   Default   21897.000000          new   21897.000000   9.0000   9.0000\n",
       "108   Default   21274.000000        clean   21274.000000   8.0000   8.0000\n",
       "69    Default   20150.000000      village   20150.000000   7.0000   7.0000\n",
       "206   Default   20187.000000     renovate   20187.000000   6.0000   6.0000\n",
       "101   Default   19723.000000        quiet   19723.000000   5.0000   5.0000\n",
       "106   Default   19526.000000       luxury   19526.000000   4.0000   4.0000\n",
       "18    Default   19748.000000         side   19748.000000   3.0000   3.0000\n",
       "151   Default   18816.000000          min   18816.000000   2.0000   2.0000\n",
       "112   Default   18862.000000         view   18862.000000   1.0000   1.0000\n",
       "...       ...            ...          ...            ...      ...      ...\n",
       "73     Topic4   37557.156250        heart   37557.933594   1.4049  -2.8786\n",
       "51     Topic4   31301.730469         home   31302.505859   1.4049  -3.0608\n",
       "102    Topic4   22985.693359         time   22986.470703   1.4048  -3.3696\n",
       "66     Topic4   22771.833984     location   22772.623047   1.4048  -3.3790\n",
       "69     Topic4   20150.197266      village   20150.984375   1.4048  -3.5013\n",
       "200    Topic4   17133.410156         away   17134.191406   1.4048  -3.6634\n",
       "13     Topic4   17121.125000         good   17121.906250   1.4048  -3.6642\n",
       "221    Topic4   14569.197266        place   14569.979492   1.4048  -3.8256\n",
       "249    Topic4   14423.022461      amazing   14423.803711   1.4048  -3.8357\n",
       "86     Topic4   12933.507812        queen   12934.315430   1.4048  -3.9447\n",
       "22     Topic4   10191.300781       lovely   10192.089844   1.4048  -4.1829\n",
       "250    Topic4    9099.993164        oasis    9100.777344   1.4048  -4.2962\n",
       "333    Topic4    8982.637695         step    8983.426758   1.4048  -4.3092\n",
       "135    Topic4    9111.526367    luxurious    9112.341797   1.4048  -4.2949\n",
       "190    Topic4    8234.023438         cute    8234.819336   1.4048  -4.3962\n",
       "119    Topic4    7831.835449      stylish    7832.616211   1.4048  -4.4463\n",
       "426    Topic4    6924.298828     friendly    6925.088867   1.4048  -4.5694\n",
       "50     Topic4    6772.222656       artist    6773.015137   1.4048  -4.5917\n",
       "160    Topic4    6693.331543      parking    6694.114258   1.4048  -4.6034\n",
       "30     Topic4    6097.624512      perfect    6098.406250   1.4047  -4.6966\n",
       "72     Topic4    5925.441895         fill    5926.215820   1.4047  -4.7252\n",
       "243    Topic4    6023.295898         live    6024.088867   1.4047  -4.7088\n",
       "167    Topic4    5902.198730    penthouse    5902.984375   1.4047  -4.7292\n",
       "110    Topic4    5845.664062       square    5846.444824   1.4047  -4.7388\n",
       "48     Topic4    6068.492676        light    6069.308105   1.4047  -4.7014\n",
       "241    Topic4    5486.671875       locate    5487.444336   1.4047  -4.8022\n",
       "430    Topic4    5479.078613   experience    5479.880859   1.4047  -4.8035\n",
       "149    Topic4    5130.253906     designer    5131.042969   1.4047  -4.8693\n",
       "238    Topic4    5029.968750     stunning    5030.755371   1.4047  -4.8891\n",
       "679    Topic4    6021.853516        relax    6022.972656   1.4047  -4.7091\n",
       "\n",
       "[157 rows x 6 columns], token_table=      Topic      Freq        Term\n",
       "term                             \n",
       "255       3  0.999896  affordable\n",
       "249       4  0.999944     amazing\n",
       "7         4  0.999990   apartment\n",
       "4         3  0.999906         apt\n",
       "19        3  0.999926        area\n",
       "50        4  0.999850      artist\n",
       "200       4  0.999930        away\n",
       "34        3  0.999870    backyard\n",
       "174       3  0.999846        bath\n",
       "85        1  0.999982    bathroom\n",
       "55        2  0.999989   beautiful\n",
       "40        1  0.999987         bed\n",
       "24        3  0.999996     bedroom\n",
       "159       3  0.999919         big\n",
       "59        3  0.999905       block\n",
       "36        2  0.999836    bohemian\n",
       "232       2  0.999914       brand\n",
       "62        2  0.999971      bright\n",
       "346       1  0.986489       bronx\n",
       "346       2  0.002599       bronx\n",
       "346       3  0.005717       bronx\n",
       "346       4  0.005198       bronx\n",
       "0         1  0.999904  brownstone\n",
       "337       1  0.997786      budget\n",
       "398       2  0.999779    building\n",
       "691       1  0.997532      center\n",
       "691       3  0.002203      center\n",
       "258       2  0.999947    charming\n",
       "131       3  0.999946        chic\n",
       "166       3  0.999806        city\n",
       "...     ...       ...         ...\n",
       "94        3  0.999857       small\n",
       "1993      1  0.000148        sond\n",
       "1993      2  0.828420        sond\n",
       "1993      3  0.036664        sond\n",
       "1993      4  0.134631        sond\n",
       "248       2  0.999965       space\n",
       "5         2  0.999995    spacious\n",
       "110       4  0.999924      square\n",
       "969       1  0.997575     station\n",
       "969       2  0.000435     station\n",
       "969       3  0.002175     station\n",
       "133       1  0.999954        stay\n",
       "333       4  0.999952        step\n",
       "6         2  0.999986      studio\n",
       "238       4  0.999850    stunning\n",
       "587       1  0.999012        stuy\n",
       "119       4  0.999921     stylish\n",
       "318       2  0.999911      subway\n",
       "38        3  0.999989       sunny\n",
       "33        3  0.999861       super\n",
       "102       4  0.999979        time\n",
       "92        2  0.999756         top\n",
       "224       3  0.999983       train\n",
       "702       1  0.993845        twin\n",
       "702       2  0.001835        twin\n",
       "702       3  0.004281        twin\n",
       "526       1  0.999131       upper\n",
       "112       2  0.999962        view\n",
       "69        4  0.999951     village\n",
       "384       3  0.999923        walk\n",
       "\n",
       "[148 rows x 3 columns], R=30, lambda_step=0.01, plot_opts={'xlab': 'PC1', 'ylab': 'PC2'}, topic_order=[3, 4, 1, 2])"
      ]
     },
     "execution_count": 15,
     "metadata": {},
     "output_type": "execute_result"
    }
   ],
   "source": [
    "# Visualize the topics\n",
    "pyLDAvis.enable_notebook()\n",
    "vis = pyLDAvis.gensim.prepare(lda_model, corpus, id2word)\n",
    "vis"
   ]
  },
  {
   "cell_type": "code",
   "execution_count": null,
   "metadata": {},
   "outputs": [],
   "source": []
  },
  {
   "cell_type": "code",
   "execution_count": null,
   "metadata": {},
   "outputs": [],
   "source": []
  },
  {
   "cell_type": "code",
   "execution_count": null,
   "metadata": {},
   "outputs": [],
   "source": []
  }
 ],
 "metadata": {
  "kernelspec": {
   "display_name": "Python 3 (anaconda3 5.3.0)",
   "language": "python",
   "name": "anaconda3-5.3.0"
  },
  "language_info": {
   "codemirror_mode": {
    "name": "ipython",
    "version": 3
   },
   "file_extension": ".py",
   "mimetype": "text/x-python",
   "name": "python",
   "nbconvert_exporter": "python",
   "pygments_lexer": "ipython3",
   "version": "3.7.0"
  }
 },
 "nbformat": 4,
 "nbformat_minor": 2
}
